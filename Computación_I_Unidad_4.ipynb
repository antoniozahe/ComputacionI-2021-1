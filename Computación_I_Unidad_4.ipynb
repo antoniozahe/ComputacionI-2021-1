{
  "nbformat": 4,
  "nbformat_minor": 0,
  "metadata": {
    "colab": {
      "name": "Computación I - Unidad 4.ipynb",
      "private_outputs": true,
      "provenance": [],
      "collapsed_sections": [],
      "authorship_tag": "ABX9TyNP8+SlhRgDx9O7BtTvH7o0",
      "include_colab_link": true
    },
    "kernelspec": {
      "name": "python3",
      "display_name": "Python 3"
    },
    "accelerator": "GPU"
  },
  "cells": [
    {
      "cell_type": "markdown",
      "metadata": {
        "id": "view-in-github",
        "colab_type": "text"
      },
      "source": [
        "<a href=\"https://colab.research.google.com/github/ulises1229/ComputacionI-2021-1/blob/master/Computaci%C3%B3n_I_Unidad_4.ipynb\" target=\"_parent\"><img src=\"https://colab.research.google.com/assets/colab-badge.svg\" alt=\"Open In Colab\"/></a>"
      ]
    },
    {
      "cell_type": "markdown",
      "metadata": {
        "id": "2ivIvIYVEwue"
      },
      "source": [
        "# Computación I - Unidad 4\n",
        "## Introducción a Python\n",
        "### Contenido:\n",
        "1. Variables\n",
        "2. Operadores\n",
        "3. Instrucciones de control\n",
        "4. Funciones \n",
        "5. Librerías \n",
        "\n"
      ]
    },
    {
      "cell_type": "markdown",
      "metadata": {
        "id": "h565Dyi2Ty4g"
      },
      "source": [
        "## 1. Variables\n"
      ]
    },
    {
      "cell_type": "code",
      "metadata": {
        "id": "3J5wzcu8UDGx"
      },
      "source": [
        "a = 4\n",
        "b = 3\n",
        "hello = \"Hello!\"\n",
        "print(a+b)\n",
        "\n",
        "# Definición de una lista con elementos diversos\n",
        "lista = [1, 2, 3, 4, [1,2,3], \"Hello\"]\n",
        "\n",
        "print(\"Último elemento: \", lista[-1][2:], \" Tamaño: \", len(lista[-1]))\n",
        "\n",
        "# Definición de una lista vacía \n",
        "lista2 = list()\n",
        "\n",
        "# Agregar elementos a lista2\n",
        "lista2.append(10)\n",
        "lista2.append(2)\n",
        "lista2.append(5)\n",
        "lista2.append(6)\n",
        "\n",
        "print(lista2)\n",
        "\n",
        "# Extender lista2\n",
        "lista2.extend([4,5,6])\n",
        "\n",
        "print(lista2)\n",
        "\n",
        "# Ordenar elementos de la lista2\n",
        "lista2.sort()\n",
        "\n",
        "print(lista2)\n",
        "\n",
        "lista2.insert(0, 29)\n",
        "\n",
        "# Eliminar la primer ocurrencia del elemento\n",
        "lista2.remove(5)\n",
        "\n",
        "print(lista2.pop(-1))\n",
        "\n",
        "print(\"Número de 6: \", lista2.count(6))\n",
        "\n",
        "print(lista2)\n",
        "\n",
        "lista2.extend([\"Hello\", \"hi\", \"aloha\"])\n",
        "print(lista2)\n",
        "\n",
        "for i in lista2:\n",
        "    print(type(i))\n",
        "\n",
        "\n",
        "# Imprimir iniciales de un nombre\n",
        "\n",
        "nombre = \"Ulises Olivares Pinto González\"\n",
        "nombre = nombre.split()\n",
        "print(nombre)\n",
        "print(nombre[0][0], nombre[1][0], nombre[2][0], nombre[3][0])\n",
        "\n",
        "\n",
        "\n"
      ],
      "execution_count": null,
      "outputs": []
    },
    {
      "cell_type": "markdown",
      "metadata": {
        "id": "Xz_LIyiYfA7J"
      },
      "source": [
        "### Tuplas"
      ]
    },
    {
      "cell_type": "code",
      "metadata": {
        "id": "AE6dP7QGfCBT"
      },
      "source": [
        "#Definición de una tupla\n",
        "tupla = (4,6,7,2,1)\n",
        "print(tupla)\n",
        "\n",
        "print(type(tupla))\n",
        "\n",
        "print(sorted(tupla))\n",
        "\n",
        "print(type(sorted(tupla)))\n",
        "\n",
        "\n"
      ],
      "execution_count": null,
      "outputs": []
    },
    {
      "cell_type": "markdown",
      "metadata": {
        "id": "TkCrMlaSmeLF"
      },
      "source": [
        "### Conjuntos"
      ]
    },
    {
      "cell_type": "code",
      "metadata": {
        "id": "c0BlSQMBmd67"
      },
      "source": [
        "# Definición de dos conjuntos\n",
        "\n",
        "a = {1,2,3,4}\n",
        "b = {2,3,5}\n",
        "\n",
        "# Operadores conjuntos | & - \n",
        "\n",
        "c = a & b\n",
        "print(c)\n",
        "\n",
        "print(a.intersection({1,2}))\n",
        "\n",
        "print(a)\n",
        "\n"
      ],
      "execution_count": null,
      "outputs": []
    },
    {
      "cell_type": "markdown",
      "metadata": {
        "id": "4QFQo6CFTtOi"
      },
      "source": [
        "## 2. Operadores\n"
      ]
    },
    {
      "cell_type": "code",
      "metadata": {
        "id": "PwAaNXcWUcPB"
      },
      "source": [
        "a = 4\n",
        "b = 3\n",
        "\n",
        "print(a+b)  # Suma \n",
        "print(a*b)  # Multiplicación\n",
        "print(a/b)  # División\n",
        "print(a**b) # Potencia\n"
      ],
      "execution_count": null,
      "outputs": []
    },
    {
      "cell_type": "markdown",
      "metadata": {
        "id": "ZY13D3tSj5Ga"
      },
      "source": [
        "## 3. Instrucciones de control"
      ]
    },
    {
      "cell_type": "code",
      "metadata": {
        "id": "HWWfPEe1SSpx"
      },
      "source": [
        "a = 3\n",
        "b = 5\n",
        "\n",
        "# uso de if\n",
        "if(a == b):\n",
        "    print(\"a y b son iguales\")\n",
        "elif (a>b):\n",
        "    print(\"a es mayor que b\")\n",
        "else:\n",
        "    print(\"b es mayor que a\")\n",
        "\n",
        "lista1 = [1,2,3,4,5,6,7,8]\n",
        "\n",
        "# Variable i toma el valor de cada elemento de la lista\n",
        "for i in lista1:\n",
        "    print(i)\n",
        "\n",
        "print(\"Impresión utilizando índices\")\n",
        "# Variable i toma el valor de un índice\n",
        "for i in range(len(lista1)):\n",
        "    print(lista1[i]) \n",
        "\n",
        "\n"
      ],
      "execution_count": null,
      "outputs": []
    },
    {
      "cell_type": "markdown",
      "metadata": {
        "id": "gVmwaeWYUQxd"
      },
      "source": [
        "### 4. Estructuras de datos\n",
        "+ Diccionarios"
      ]
    },
    {
      "cell_type": "code",
      "metadata": {
        "id": "KICkP0uoUVFc"
      },
      "source": [
        "\n",
        "# Ejemplificar el uso de diccionarios con tres pares de valores\n",
        "# Insertar una lista en el tercer elemento\n",
        "frutas = {'Fresa':'roja', 'Limón':'verde', 'Manzana':['amarilla', 'rojas', 'verdes']}\n",
        "print(frutas['Manzana'])\n",
        "\n",
        "# Diccionario para código ascii Clave = char valor = int\n",
        "ascii = {'A':65, 'B':66, 'C':67, 'D':68, 'E':69, 'F':70, 'G':71}\n",
        "\n",
        "# Diccionario para código ascii Clave = int valor = char\n",
        "ascii2 = {65:'A', 66:'B', 67:'C', 68 :'D', 69:'E', 70:'F', 71:'G'}\n",
        "\n",
        "# Definición de una cadena de chars\n",
        "cad = 'ABCDEFG'\n",
        "\n",
        "# Lista para almacenar representación entera de chars\n",
        "listInt = []\n",
        "\n",
        "# Imprimir entros\n",
        "for i in cad:\n",
        "    print(ascii[i])\n",
        "    listInt.append(ascii[i])\n",
        "print(\"El valor de listInt es\\n\", listInt)\n",
        "\n",
        "# Obtener cadena original\n",
        "for i in listInt:\n",
        "    print(ascii2[i])\n",
        "\n",
        "\n",
        "# Funciones asociadas a diccionarios\n",
        "\n",
        "# Imprimir llaves y valores utilizando funciones\n",
        "print(ascii.keys())\n",
        "print(ascii.values())\n",
        "\n",
        "# Eliminar todos los elementos del diccionario\n",
        "print(ascii.clear())\n",
        "\n",
        "# Ejercicio Asociado a diccionarios (Presentación)\n",
        "prod = 'Tijeras'\n",
        "cant = 2\n",
        "\n",
        "productos = {'Tijeras':50, 'Hojas':80}\n",
        "\n",
        "print(\"El total es\", cant * productos[prod])\n",
        "\n",
        "# TODO: Completar diccionario y preguntar al usuario productos y cants"
      ],
      "execution_count": null,
      "outputs": []
    },
    {
      "cell_type": "markdown",
      "metadata": {
        "id": "L424lh5WfFYm"
      },
      "source": [
        "### 5. Funciones"
      ]
    },
    {
      "cell_type": "code",
      "metadata": {
        "id": "g8z3nTu4fMp6"
      },
      "source": [
        "'''\n",
        "    Suma de dos números\n",
        "    Entrdas: Dos números enteros\n",
        "    Salida: Suma\n",
        "'''\n",
        "def suma(a, b):\n",
        "    return a + b\n",
        "\n",
        "'''\n",
        "    Resta de dos números\n",
        "    Entrdas: Dos números enteros\n",
        "    Salida: Diferencia de a -b\n",
        "'''\n",
        "def resta(a, b):\n",
        "    return a - b\n",
        "\n",
        "\n",
        "# Función principal main\n",
        "def main():\n",
        "    print(\"Función main\")\n",
        "    a = 5 \n",
        "    b = 3\n",
        "    print(\"La suma de los elementos a y b es: \", suma(a, b))\n",
        "\n",
        "    print(\"La resta de los elementos a y b es: \", resta(a, b))\n",
        "\n",
        "\n",
        "    '''\n",
        "        función que retorna el cuadrado y cubo de un elemento\n",
        "        Entrdas: elemento int\n",
        "        Salida: Cuadrado y cubo\n",
        "    '''\n",
        "    def potencia(a):\n",
        "        return a**2, a**3 , a**4\n",
        "\n",
        "    a = 2\n",
        "\n",
        "    print(potencia(a))\n",
        "\n",
        "    cuad, cubo, cuarta = potencia(a)\n",
        "\n",
        "    print(cuad)\n",
        "    print(cubo)\n",
        "\n",
        "\n",
        "\n",
        "# Sintaxis para generar una función main\n",
        "if __name__  == '__main__':\n",
        "    main()\n",
        "\n",
        "\n",
        "\n",
        "\n",
        "\n"
      ],
      "execution_count": null,
      "outputs": []
    },
    {
      "cell_type": "markdown",
      "metadata": {
        "id": "7EWEvIaXVy4j"
      },
      "source": [
        "## Librerías \n",
        "\n",
        "\n"
      ]
    },
    {
      "cell_type": "markdown",
      "metadata": {
        "id": "H7kMRaS6fulf"
      },
      "source": [
        ""
      ]
    },
    {
      "cell_type": "code",
      "metadata": {
        "id": "PSvJ9kICft7Q"
      },
      "source": [
        "# Instalación de paquetes manualmente\n",
        "!pip install numpy\n",
        "\n",
        "import random as rn\n",
        "\n",
        "# Establecer semilla\n",
        "#rn.seed(21)\n",
        "\n",
        "lista = list()\n",
        "hist = list()\n",
        "\n",
        "# Generar 10,000 números aleatorios\n",
        "for i in range(10001):\n",
        "    lista.append(rn.randint(1,101))\n",
        "    # hist = ()\n",
        "\n",
        "# Completar el histograma\n",
        "print(lista)\n",
        "\n"
      ],
      "execution_count": null,
      "outputs": []
    },
    {
      "cell_type": "markdown",
      "metadata": {
        "id": "MCkjOC_8fxK5"
      },
      "source": [
        "### Numpy\n",
        "+ Arreglos multidimensionales"
      ]
    },
    {
      "cell_type": "code",
      "metadata": {
        "id": "iV2tLujWH1N1"
      },
      "source": [
        "# importar librería de numpy \n",
        "import numpy as np\n",
        "\n",
        "# Creara un arreglo bi-dimensional\n",
        "m = 2\n",
        "n = 2\n",
        "\n",
        "# Definición de un arreglo bi-dimensional (matriz) de m x n \n",
        "b = np.ndarray(shape=(m,n), dtype=np.uint8)\n",
        "# Inicializar la matriz con datos de usuario\n",
        "for i in range(len(b)):\n",
        "    for j in range(len(b[0])):\n",
        "        b[i][j] = input(\"Ingesa el elemento de la posición: \"  + str(i)  + \" \" + str(j) + \"\\t\")\n",
        "\n",
        "# Especificación manual de matriz\n",
        "a = np.array([[1,2,3], \n",
        "              [4,5,6], \n",
        "              [7,8,9]], dtype = np.uint8)\n",
        "\n",
        "# Imprimir matriz\n",
        "print(a)\n",
        "print(type(a))\n",
        "\n",
        "# IMPRIMIR ELEMENTOS\n",
        "print(\"Dimensiones: \", a.ndim)\n",
        "print(\"Forma: \", a.shape)\n",
        "print(\"Tipo de datos: \", a.dtype)\n",
        "\n",
        "# IMPRIMIR ELEMENTOS SEGUNDA MATRIZ b\n",
        "print(\"Dimensiones: \", b.ndim)\n",
        "print(\"Forma: \", b.shape)\n",
        "print(\"Tipo de datos: \", b.dtype)"
      ],
      "execution_count": null,
      "outputs": []
    },
    {
      "cell_type": "code",
      "metadata": {
        "id": "kq_pDjfjJWjF"
      },
      "source": [
        "import numpy as np\n",
        "\n",
        "# Creación de arreglos\n",
        "# Arreglo de 1s\n",
        "ones = np.ones((4,4), dtype=np.float32)\n",
        "# Arreglo de 0s\n",
        "zeros = np.zeros((5,5), dtype=np.float32)\n",
        "\n",
        "#Impresión de matrices\n",
        "print(ones)\n",
        "print(zeros)\n",
        "\n",
        "print(\"Matriz 1s tiene: \" + str(len(ones)) + \" filas y \" + str(len(ones[0])) + \" columnas\")\n",
        "\n",
        "# Acceso a la matriz usando índices\n",
        "filas = len(ones)\n",
        "columnas = len(ones[0])\n",
        "\n",
        "print(\"Impresión utilizando índices\")\n",
        "for i in range(filas):\n",
        "  for j in range(columnas):\n",
        "    print(ones[i][j], end= \" \")\n",
        "  print(\" \")\n",
        "\n",
        "print(\"Impresión utilizando elementos\")\n",
        "# Acceso usando elementos\n",
        "for i in ones:\n",
        "  for j in i:\n",
        "    print(j , end =\" \")\n",
        "  print(\" \")"
      ],
      "execution_count": null,
      "outputs": []
    },
    {
      "cell_type": "code",
      "metadata": {
        "id": "Lhd4g_CDLatT"
      },
      "source": [
        "# Generación de un vector a través del uso de rangos\n",
        "np.arange(1, 100)"
      ],
      "execution_count": null,
      "outputs": []
    },
    {
      "cell_type": "code",
      "metadata": {
        "id": "SM-DLDRBPgho"
      },
      "source": [
        "# Concatenando arreglos o matrices\n",
        "A = np.ones((3,4), dtype = np.float32)\n",
        "B = np.zeros((5,4), dtype = np.float32)\n",
        "\n",
        "# concatenar matrices (Número de columnas debe ser igual)\n",
        "np.concatenate([A,B])\n",
        "\n",
        "# Concatenando arreglos o matrices \n",
        "A = np.ones((4,3), dtype = np.float32)\n",
        "B = np.zeros((4,2), dtype = np.float32)\n",
        "\n",
        "# concatenar filas de ambas matrices (Número de filas debe ser igual)\n",
        "np.concatenate([A,B], axis =1)\n",
        "\n",
        "# Caso de aplicación Inversa de una matriz usando eliminación de Gauss-J\n",
        "A = np.ones((4,4), dtype = np.float32)\n",
        "I = np.zeros_like(A)\n",
        "\n",
        "# Establecer 1's en la digonal principal\n",
        "for i in range(len(I)):\n",
        "    I[i][i] = 1\n",
        "\n",
        "print(\"Matriz A: \\n\", A)\n",
        "print(\"Matriz I: \\n\", I)\n",
        "\n",
        "aumentada = np.concatenate([A,I], axis = 1)\n",
        "\n",
        "print(\"Matriz Aumentada: \\n\", aumentada)\n"
      ],
      "execution_count": null,
      "outputs": []
    },
    {
      "cell_type": "code",
      "metadata": {
        "id": "S9bqh64vQD5a"
      },
      "source": [
        "# Uso de astype para hacer un cast de tipos de datos\n",
        "A = np.zeros((5,4), dtype = np.float32)\n",
        "print(len(A[0]))\n",
        "\n",
        "for i in range(len(A)):\n",
        "  for j in range(len(A[0])):\n",
        "    A[i][j] = np.pi\n",
        "print(A)\n",
        "\n",
        "print(A.astype(np.uint8))"
      ],
      "execution_count": null,
      "outputs": []
    },
    {
      "cell_type": "code",
      "metadata": {
        "id": "-YYZOHcCRkjk"
      },
      "source": [
        "# Uso de np.zeros_like y np.ones_like\n",
        "A = np.ones((4,4))\n",
        "print(A)\n",
        "# zeros_like genera un arreglo de las \n",
        "# mismas dimensiones que el original \n",
        "B = np.zeros_like(A)\n",
        "print(B)\n",
        "\n",
        "C = A\n",
        "\n",
        "A[0][0] = 2\n",
        "\n",
        "print(A)\n",
        "print(C)"
      ],
      "execution_count": null,
      "outputs": []
    },
    {
      "cell_type": "code",
      "metadata": {
        "id": "wGKMiDBIRfjT"
      },
      "source": [
        "# Generación de arreglos aleatorios\n",
        "A = np.random.random((5, 5))\n",
        "print(A)\n",
        "# Generación de números enteros del 0 al n-1 \n",
        "n = 10\n",
        "B= np.random.randint(10, size = (7,7))\n",
        "print(B)"
      ],
      "execution_count": null,
      "outputs": []
    },
    {
      "cell_type": "code",
      "metadata": {
        "id": "TEbefbC4Q-ER"
      },
      "source": [
        "# Transformaciones de arreglos\n",
        "A = np.array([1,2,3,4,5,6,7,8,9,10,11,12])\n",
        "print(A)\n",
        "\n",
        "# Transformar a 3 filas, 2 columnas\n",
        "A = A.reshape(3,4)\n",
        "print(A)\n",
        "\n",
        "# Se utiliza -1 para determinar cols\n",
        "A = A.reshape(4, -1)\n",
        "print(A)\n",
        "\n",
        "# Transormar a un arreglo lineal\n",
        "A = A.ravel()\n",
        "print(A)"
      ],
      "execution_count": null,
      "outputs": []
    },
    {
      "cell_type": "code",
      "metadata": {
        "id": "kdP0tMurZrka"
      },
      "source": [
        "# Transpuesta de una matriz\n",
        "A = np.arange(25).reshape(5,5)\n",
        "print(\"Matriz Original: \\n\" + str(A))\n",
        "# Imprimir matriz transpuesta\n",
        "print(\"Matriz Transpuesta: \\n\" + str(A.T))\n",
        "# Imprimir matriz \n",
        "print(\"Matriz Transpuesta: \\n\" + str(A.transpose((1,0))))\n",
        "\n",
        "# Comprobación de una matriz simétrica\n",
        "A = np.array([[1,0],\n",
        "              [0,1]], dtype=np.uint8)\n",
        "\n",
        "if (A == A.T).all():\n",
        "    print(\"A es simétrica\")\n",
        "else:\n",
        "    print(\"A NO es simétrica\")\n",
        "\n"
      ],
      "execution_count": null,
      "outputs": []
    },
    {
      "cell_type": "code",
      "metadata": {
        "id": "u44c41iHY8qZ"
      },
      "source": [
        "# Operadores Matemáticos\n",
        "f = 3\n",
        "c = 3\n",
        "\n",
        "n = 9\n",
        "\n",
        "A = np.arange(n).reshape(f,c)\n",
        "print(\"Primer Matriz: \\n\" + str(A))\n",
        "\n",
        "B = np.arange(n, n+n).reshape(f, c)\n",
        "print(\"Segunda Matriz: \\n\" + str(B))\n",
        "\n",
        "# Calcular la suma de ambas matrices\n",
        "print(\"Suma: \\n\"  + str(A + B))\n",
        "\n",
        "# Calcular la resta de ambas matrices\n",
        "print(\"resta: \\n\"  + str(B - A))\n",
        "\n",
        "# Calcular la multiplicación de ambas matrices\n",
        "print(\"multiplicación: \\n\"  + str(A @ B))"
      ],
      "execution_count": null,
      "outputs": []
    },
    {
      "cell_type": "code",
      "metadata": {
        "id": "6ypxSJKoY3p9"
      },
      "source": [
        "# Operadores lógicos\n",
        "A = np.random.random((5,5))\n",
        "print(\"Matriz Original: \\n\" + str(A))\n",
        "\n",
        "# Operador lógico\n",
        "print(\"Operador lógico a >5 \\n\" + str(A > 0.5))"
      ],
      "execution_count": null,
      "outputs": []
    },
    {
      "cell_type": "code",
      "metadata": {
        "id": "_jgah2aMe1A1"
      },
      "source": [
        "# Operaciones in-situ \n",
        "A = np.random.randint(10, size= (5,5))\n",
        "print(\"Matriz A Original: \\n\" + str(A))\n",
        "\n",
        "B  = np.random.randint(10, size= (5,5))\n",
        "print(\"Matriz B Original: \\n\" + str(B))\n",
        "\n",
        "# Operación in-situ\n",
        "A += B\n",
        "print(\"Matriz A Modificada: \\n\" + str(A))"
      ],
      "execution_count": null,
      "outputs": []
    },
    {
      "cell_type": "code",
      "metadata": {
        "id": "qnL5B5LMfzz9"
      },
      "source": [
        "# Funciones universales\n",
        "A = np.random.randint(10, 100, size= (5,5))\n",
        "print(\"Matriz A Original: \\n\" + str(A))\n",
        "\n",
        "# Calcular Raiz cuadrada\n",
        "print(\"Raiz Cuadrada: \\n\" + str(np.sqrt(A)))\n",
        "\n",
        "# Calcular raiz a elemento de la matriz\n",
        "print(np.sqrt(A[0][0]))\n"
      ],
      "execution_count": null,
      "outputs": []
    },
    {
      "cell_type": "markdown",
      "metadata": {
        "id": "0qFDMEpz4oKY"
      },
      "source": [
        "#### Inversa de una matriz\n"
      ]
    },
    {
      "cell_type": "code",
      "metadata": {
        "id": "gGbw1o3x4ruc"
      },
      "source": [
        "# Inversa de una matriz\n",
        "import numpy as np\n",
        "\n",
        "# Inicializar una matriz \n",
        "A = np.random.randint(10, size= (5,5))\n",
        "print(\"Matriz A Original: \\n\" + str(A))\n",
        "\n",
        "# Calcular matriz inversa\n",
        "B = np.linalg.inv(A)\n",
        "print(\"Matriz Inversa A^-1: \\n\" + str(B))"
      ],
      "execution_count": null,
      "outputs": []
    },
    {
      "cell_type": "markdown",
      "metadata": {
        "id": "5JO3NyGytIri"
      },
      "source": [
        "***\n",
        "Termina repaso de Numpy \n",
        "***"
      ]
    },
    {
      "cell_type": "markdown",
      "metadata": {
        "id": "JNL0A2zcMCJf"
      },
      "source": [
        "### Tiempos en Python y Numpy\n"
      ]
    },
    {
      "cell_type": "code",
      "metadata": {
        "id": "A_1gV7NvMBxl"
      },
      "source": [
        "import numpy as np\n",
        "import time\n",
        "\n",
        "def encontrarMayor(A):\n",
        "    # Variable inicializada en menos infinito\n",
        "    mayor = np.inf * -1  \n",
        "    for i in A:\n",
        "        if i > mayor:\n",
        "            mayor = i\n",
        "    return mayor\n",
        "\n",
        "def encontrarElementoIngenuo(A, k):\n",
        "    pos = -1\n",
        "    for i in range(len(A)):\n",
        "        if A[i] == k:\n",
        "            pos = i\n",
        "    return pos\n",
        "            \n",
        "def encontrarElementoOptimizado(A, k):\n",
        "    pos = -1\n",
        "    for i in range(len(A)):\n",
        "        if A[i] == k:\n",
        "            pos = i\n",
        "            break\n",
        "    return pos\n",
        "\n",
        "\n",
        "\n",
        "def main():\n",
        "    n = 400001\n",
        "    A = np.arange(1, n)\n",
        "    k = 1\n",
        "\n",
        "    # Definición de timer inicial\n",
        "    inicio = time.time()\n",
        "\n",
        "    # Instanciar función para encontrar el elemento mayor\n",
        "    mayor = encontrarMayor(A)\n",
        "\n",
        "    # Definición de timer final\n",
        "    fin = time.time()\n",
        "\n",
        "    print(\"El tiempo total es de: \", (fin - inicio) * 1000, \"ms\" )\n",
        "\n",
        "    # Tomar timepos y manda llamar el método ingenuo\n",
        "    inicio = time.time()\n",
        "    encontrarElementoIngenuo(A, k)\n",
        "    fin = time.time()\n",
        "    print(\"El tiempo total ingenuo es de: \", (fin - inicio) * 1000, \"ms\" )\n",
        "\n",
        "    # Tomar timepos y manda llamar el método optimizado\n",
        "    inicio = time.time()\n",
        "    encontrarElementoOptimizado(A, k)\n",
        "    fin = time.time()\n",
        "    print(\"El tiempo total optimizado es de: \", (fin - inicio) * 1000, \"ms\" )\n",
        "\n",
        "\n",
        "    #print(\"El elemento mayor de A es: \", mayor)\n",
        "\n",
        "\n",
        "\n",
        "\n",
        "\n",
        "\n",
        "\n",
        "if __name__ == \"__main__\":\n",
        "    main()"
      ],
      "execution_count": null,
      "outputs": []
    },
    {
      "cell_type": "code",
      "metadata": {
        "id": "WNrLhFbkMBPf"
      },
      "source": [
        ""
      ],
      "execution_count": null,
      "outputs": []
    },
    {
      "cell_type": "markdown",
      "metadata": {
        "id": "ilQAOcHY8uHR"
      },
      "source": [
        "##Visualización de datos y Matemáticas Simbólicas\n"
      ]
    },
    {
      "cell_type": "markdown",
      "metadata": {
        "id": "ysHVGVZtBa8D"
      },
      "source": [
        "# Matemáticas Simbólicas\n",
        "+ Álgebra\n",
        "+ Cálculo\n",
        "+ Ecuaciones"
      ]
    },
    {
      "cell_type": "code",
      "metadata": {
        "id": "gGxNunL9Bv0S"
      },
      "source": [
        "# Importar la librería Sympy\n",
        "from sympy import *\n",
        "\n",
        "# importar una variable simbólica (x)\n",
        "from sympy.abc import x\n",
        "\n",
        "# Habilitar impresión avanzada \n",
        "init_printing(use_latex='mathjax')\n",
        "\n",
        "# Lo anterior es equivalente a: \n",
        "x = Symbol('x') \n",
        "\n",
        "# también se puede definir como:\n",
        "x, y = symbols('x y')\n",
        "\n",
        "print(\"Simbolos\", x+y )\n"
      ],
      "execution_count": null,
      "outputs": []
    },
    {
      "cell_type": "markdown",
      "metadata": {
        "id": "zKhqz4COHtZH"
      },
      "source": [
        "#### Operaciones Básicas\n",
        " "
      ]
    },
    {
      "cell_type": "code",
      "metadata": {
        "id": "x8TxNWZ6ENVR"
      },
      "source": [
        "# Definir una expresión simple\n",
        "a = 2*x**2 + y \n",
        "print(a)\n",
        "display(a)\n"
      ],
      "execution_count": null,
      "outputs": []
    },
    {
      "cell_type": "code",
      "metadata": {
        "id": "askGtDUqD4IQ"
      },
      "source": [
        "# Operaciones simples con expresiones\n",
        "display(a + y)\n",
        "display(a**2 )"
      ],
      "execution_count": null,
      "outputs": []
    },
    {
      "cell_type": "code",
      "metadata": {
        "id": "s7UtQmzQEBCH"
      },
      "source": [
        "# Expandir una expresión\n",
        "expand(a**3)"
      ],
      "execution_count": null,
      "outputs": []
    },
    {
      "cell_type": "code",
      "metadata": {
        "id": "chCoYT2nFp7M"
      },
      "source": [
        "# Factorización\n",
        "b = x**3 + 3*x**2 +3*x + 1\n",
        "display(\"Expresión: \", b)\n",
        "display(\"Factorización\",factor(b) )"
      ],
      "execution_count": null,
      "outputs": []
    },
    {
      "cell_type": "code",
      "metadata": {
        "id": "26q2om-8F82h"
      },
      "source": [
        "# Simplificación de expresiones\n",
        "# Definir dos expresiones\n",
        "exp1 = x**2 - y**2\n",
        "exp2 = (x+y)*(x-y)\n",
        "\n",
        "# \n",
        "display(\"Primer expresión: \",exp1)\n",
        "display(\"Segunda expresión: \",exp2)\n",
        "display(\"Simplificación: \", simplify(exp1 - exp2))\n"
      ],
      "execution_count": null,
      "outputs": []
    },
    {
      "cell_type": "markdown",
      "metadata": {
        "id": "EHPDnVszHz--"
      },
      "source": [
        "#### Sustituciones"
      ]
    },
    {
      "cell_type": "code",
      "metadata": {
        "id": "RWOtgB0rH4s4"
      },
      "source": [
        "# Definir una expresión simple y realizar sustituciones\n",
        "import numpy as np\n",
        "\n",
        "expr = x**3 + 1\n",
        "\n",
        "x_a = np.arange(-10000, 10001)\n",
        "y_a = np.arange(-10000, 10001)\n",
        "\n",
        "for i in range(len(x_a)):\n",
        "  y_a[i] = expr.subs(x,x_a[i])\n",
        "\n",
        "print(x_a)\n",
        "print(y_a)\n",
        "\n",
        "import matplotlib.pyplot as plt\n",
        "plt.plot(x_a, y_a)\n",
        "plt.show()\n",
        "\n",
        "display(\"Primer substitución x = y\", expr.subs(x, y))\n",
        "display(\"Segunda substitución x = 0\",expr.subs(x, 0))\n",
        "\n",
        "\n",
        "\n"
      ],
      "execution_count": null,
      "outputs": []
    },
    {
      "cell_type": "code",
      "metadata": {
        "id": "-gdFX8R3Img5"
      },
      "source": [
        "# Continuación sustituciones\n",
        "expr = x**y\n",
        "expr2 = x**2\n",
        "display(\"Expresión original\", expr)\n",
        "expr = expr.subs(y, expr2)\n",
        "display(\"Después de la sustitución\", expr)"
      ],
      "execution_count": null,
      "outputs": []
    },
    {
      "cell_type": "markdown",
      "metadata": {
        "id": "272FCz0fJrbi"
      },
      "source": [
        "#### Funciones trigonométricas\n"
      ]
    },
    {
      "cell_type": "code",
      "metadata": {
        "id": "Lgb5NkuKJ1yc"
      },
      "source": [
        "# Definición de una expresión trig.\n",
        "trigx = sin(2*x) + cos(2*x)\n",
        "\n",
        "# Evaluacón numérica\n",
        "import numpy as np\n",
        "print(np.sin(90))\n",
        "\n",
        "# Expansión utilizando identidades\n",
        "display(\"Expansión \", expand_trig(trigx))"
      ],
      "execution_count": null,
      "outputs": []
    },
    {
      "cell_type": "code",
      "metadata": {
        "id": "Ozh4e0e7KaOA"
      },
      "source": [
        "from sympy import *\n",
        "# Simplificación\n",
        "display(\"Simplificación \", trigsimp(cos(x)**2 + sin(x)**2))\n"
      ],
      "execution_count": null,
      "outputs": []
    },
    {
      "cell_type": "markdown",
      "metadata": {
        "id": "04CHqmBbLX1o"
      },
      "source": [
        "\n",
        "#### Symplificación y Evaluación"
      ]
    },
    {
      "cell_type": "code",
      "metadata": {
        "id": "p1g7XZRXLc42"
      },
      "source": [
        "simplify('x**2 + 2*x +4')\n"
      ],
      "execution_count": null,
      "outputs": []
    },
    {
      "cell_type": "code",
      "metadata": {
        "id": "y3MQt_jgMIvv"
      },
      "source": [
        "# Definición de una expresión\n",
        "expr = sqrt(8)\n",
        "\n",
        "# imprimir la expresión\n",
        "display(expr)\n",
        "\n",
        "# Imprimir la evaluación\n",
        "display(expr.evalf())\n",
        "\n",
        "# imprimir pi y hacer su evaluación\n",
        "display(\"Símbolo \", pi)\n",
        "display(\"Evaluación \", pi.evalf(50))"
      ],
      "execution_count": null,
      "outputs": []
    },
    {
      "cell_type": "code",
      "metadata": {
        "id": "JhaiG9ZHI_wu"
      },
      "source": [
        " # Más simplificaciones\n",
        "display(\"Sin simplificar\",simplify(x**3 + x**2 -x -1)/(x**2 +2*x +1))\n",
        "display(\"Simplificada\",simplify((x**3 + x**2 -x -1)/(x**2 +2*x +1)))\n",
        "display(\"\",simplify((x**4 - 1)/(x - 1)))\n",
        "display(\"\",simplify((x**4 - 1)/(x**2 - 1)))\n",
        "display(\"Expansión: \",expand((x+2*y)**3))\n",
        "display(\"\",cancel((x**4 - 1)/(x - 1)))\n",
        "display(\"\",cancel((x**2 + 2* x + 1)/(x**2 - 1)))\n"
      ],
      "execution_count": null,
      "outputs": []
    },
    {
      "cell_type": "markdown",
      "metadata": {
        "id": "mkBDCIbOKVa2"
      },
      "source": [
        "# Potenciación"
      ]
    },
    {
      "cell_type": "code",
      "metadata": {
        "id": "eTVn6BoXKbWA"
      },
      "source": [
        "# Diferencia entre ambas potenciaciones\n",
        "xp,yp = symbols('x y',positive=True)\n",
        "a,b = symbols('a b', real=True)\n",
        "# Potenciación en sympy x**2 = x ^2\n",
        "display(powsimp(x**a * y**a))\n",
        "display(powsimp(xp**a * yp**a))\n"
      ],
      "execution_count": null,
      "outputs": []
    },
    {
      "cell_type": "markdown",
      "metadata": {
        "id": "aLXVlqCfLT0v"
      },
      "source": [
        "Exponenciales y logaritmos\n"
      ]
    },
    {
      "cell_type": "code",
      "metadata": {
        "id": "E7Qd8udILfLI"
      },
      "source": [
        "# Definición de un nuevo símbolo\n",
        "n = Symbol('n')\n",
        "\n",
        "# Logaritmos\n",
        "display('',ln(x))\n",
        "display('',expand_log(log(x*y)))\n",
        "display('',expand_log(log(x/y)))\n",
        "display('',expand_log(log(x**2)))\n",
        "display('',expand_log(log(x**n)))\n"
      ],
      "execution_count": null,
      "outputs": []
    },
    {
      "cell_type": "markdown",
      "metadata": {
        "id": "gjGTEG98M6F6"
      },
      "source": [
        "### Calclulo\n",
        "+ Diferenciación\n",
        "+ Derivación \n",
        "+ Límites"
      ]
    },
    {
      "cell_type": "code",
      "metadata": {
        "id": "2t01XVjFM_7r"
      },
      "source": [
        "from sympy import *\n",
        "from sympy.abc import x\n",
        "\n",
        "#Diferenciación\n",
        "# definiendo una función\n",
        "f = x**3 + 2*x**2 + 3*x + 5 \n",
        "display(\"Función: \" ,f)\n",
        "\n",
        "# Calculando primer derivada\n",
        "derivada1 = diff(f, x)\n",
        "display(\"1er Derivada: \", derivada1)\n",
        "\n",
        "# Calculando segunda derivada\n",
        "derivada2 = diff(derivada1, x)\n",
        "display(\"2da Derivada: \", derivada2)\n",
        "\n",
        "# Calcular derivada utilizando un ciclo\n",
        "n = 3\n",
        "i = 1\n",
        "while i <= n:\n",
        "    f = diff(f)\n",
        "    display(\"La derivada es:\", f)\n",
        "    i +=1"
      ],
      "execution_count": null,
      "outputs": []
    },
    {
      "cell_type": "code",
      "metadata": {
        "id": "rTooyTZBOHTL"
      },
      "source": [
        "#Integración\n",
        "# definiendo una función\n",
        "f = x**3 + 2*x**2 + 3*x + 5 \n",
        "display(\"Función: \" ,f)\n",
        "\n",
        "# Intervalos de evaluación\n",
        "a = 1\n",
        "b = 5\n",
        "\n",
        "# Imprimir la integral\n",
        "display(\"\",Integral(f,(x, a, b)))\n",
        "\n",
        "# Imprimir la evaluación\n",
        "display(\"\",integrate(f,(x, a, b)))"
      ],
      "execution_count": null,
      "outputs": []
    },
    {
      "cell_type": "code",
      "metadata": {
        "id": "fe8C7wMLPI_U"
      },
      "source": [
        "# Límites\n",
        "# definiendo una función\n",
        "f = x**3 + 2*x**2 + 3*x + 5 \n",
        "display(\"Función: \" ,f)\n",
        "\n",
        "# Evaluación del límite cuando x –> inf\n",
        "display(\"Límite\", limit(f, x, oo))"
      ],
      "execution_count": null,
      "outputs": []
    },
    {
      "cell_type": "code",
      "metadata": {
        "id": "2OvaCpimQdfP"
      },
      "source": [
        "# Ecuaciones\n",
        "# definiendo una ecuación x**3 + 2*x**2 + 3*x + 5 = 0\n",
        "from sympy import *\n",
        "from sympy.abc  import x, y\n",
        "\n",
        "f = x**2 + 2 \n",
        "\n",
        "display(\"Resolver eccuación \", solve(f, x))\n",
        "\n",
        "display(\"Raices reales de un polinomio\", roots(x**3 - 6*x**2 + 9*x,x))\n"
      ],
      "execution_count": null,
      "outputs": []
    },
    {
      "cell_type": "code",
      "metadata": {
        "id": "JSIwOIT_BzmA"
      },
      "source": [
        "%matplotlib inline"
      ],
      "execution_count": null,
      "outputs": []
    },
    {
      "cell_type": "code",
      "metadata": {
        "id": "4wY5yUFr80Gy"
      },
      "source": [
        "# importar la librería de pandas como pd\n",
        "import pandas as pd\n",
        "\n",
        "#Leer el dataframe salaries.csv\n",
        "df = pd.read_csv(\"https://raw.githubusercontent.com/ulises1229/INTRO-PYTHON-ENESJ/master/data/salaries.csv\")\n",
        "df.head()"
      ],
      "execution_count": null,
      "outputs": []
    },
    {
      "cell_type": "markdown",
      "metadata": {
        "id": "h0FyY51mKvHR"
      },
      "source": [
        "##1. Gráficos de dispersión (Scatter)"
      ]
    },
    {
      "cell_type": "code",
      "metadata": {
        "id": "Mg6DF7HC-NMx"
      },
      "source": [
        "# Importar librería Matplotlib\n",
        "import matplotlib.pyplot as plt\n",
        "\n",
        "# Almacenar variables x = años servicio y y = salario\n",
        "x = df.service\n",
        "y = df.salary\n",
        "\n",
        "# Generar diagrama de dispersión\n",
        "plt.scatter(x, y)\n",
        "\n",
        "# Títulos: gráfico y ejes \n",
        "plt.title(\"Gráfico de Dispersión Años de servicio vs Salario\")\n",
        "plt.xlabel('Años de servicio')\n",
        "plt.ylabel('Salario Anual')\n",
        "\n",
        "# Desplegar imagen en pantalla\n",
        "plt.show()"
      ],
      "execution_count": null,
      "outputs": []
    },
    {
      "cell_type": "markdown",
      "metadata": {
        "id": "pZtLeDVwZC2t"
      },
      "source": [
        "### Añadir Colores y modificar el tamaño del gráfico"
      ]
    },
    {
      "cell_type": "code",
      "metadata": {
        "id": "w7YDLdjiYKSs"
      },
      "source": [
        "#importar librería de numpy\n",
        "import numpy as np\n",
        "\n",
        "# Almacenar variables x = años servicio y y = salario\n",
        "x = df.service\n",
        "y = df.salary\n",
        "lab = ['Male', 'Female']\n",
        "\n",
        "# Arreglo de colores\n",
        "colores = np.arange(len(x))\n",
        "\n",
        "# Títulos: gráfico y ejes \n",
        "plt.title(\"Gráfico de Dispersión Años de servicio vs Salario\")\n",
        "plt.xlabel('Años de servicio')\n",
        "plt.ylabel('Salario Anual')\n",
        "\n",
        "# Agregar un scatter con colores y transparencia\n",
        "plt.scatter(x, y, c=colores, alpha = 0.5, s = (y*0.002))\n",
        "\n",
        "#plt.show()\n",
        "plt.savefig(\"dispersión.tiff\", dpi=300, quality = 95, bbox_inches='tight')"
      ],
      "execution_count": null,
      "outputs": []
    },
    {
      "cell_type": "markdown",
      "metadata": {
        "id": "-IozdV_DfSoT"
      },
      "source": [
        "### Agregar una leyenda a los datos"
      ]
    },
    {
      "cell_type": "code",
      "metadata": {
        "id": "AvCdA-lEfWMp"
      },
      "source": [
        "# Almacenar variables x = años servicio y y = salario\n",
        "x = df.service\n",
        "y = df.salary\n",
        "lab = ['Male', 'Female']\n",
        "\n",
        "# Arreglo de colores\n",
        "colores = np.arange(len(x))\n",
        "\n",
        "# Títulos: gráfico y ejes \n",
        "plt.title(\"Gráfico de Dispersión Años de servicio vs Salario\")\n",
        "plt.xlabel('Años de servicio')\n",
        "plt.ylabel('Salario Anual')\n",
        "\n",
        "# Agregar un scatter con colores, transparencia y leyenda\n",
        "plt.scatter(x, y, c=colores, alpha = 0.5, s = (y*0.002), label = \"datos\")\n",
        "plt.legend(loc='best')\n",
        "\n",
        "#plt.show()\n",
        "plt.savefig(\"dispersión.tiff\", dpi=300, quality = 95, bbox_inches='tight')"
      ],
      "execution_count": null,
      "outputs": []
    },
    {
      "cell_type": "markdown",
      "metadata": {
        "id": "7xqYYS_CihOi"
      },
      "source": [
        "### Exportando un gráfico"
      ]
    },
    {
      "cell_type": "code",
      "metadata": {
        "id": "p6ui5FvWX787"
      },
      "source": [
        "# guarda la imagen en un archivo\n",
        "plt.savefig(\"dispersión.tiff\", dpi=300, quality = 95, bbox_inches='tight')"
      ],
      "execution_count": null,
      "outputs": []
    },
    {
      "cell_type": "markdown",
      "metadata": {
        "id": "5QcndDlEiopV"
      },
      "source": [
        "### Ejercicio 1\n",
        "\n",
        "\n",
        "Emplear el dataframe **mpg.csv** Está en el repositorio de GitHub: https://raw.githubusercontent.com/ulises1229/INTRO-PYTHON-ENESJ/master/data/mpg.csv\n",
        "\n",
        "1. Se deberá generar un gráfico de dispersión del desplazamiento del motor vs rendimiento en autopista.\n",
        "\n",
        "2. Se deberá generar un segundo gráfico de desplazamiento del motor vs rendimiento en ciudad.\n",
        "\n",
        "3. Exportar un gráfico con una resolución de 300 dpi"
      ]
    },
    {
      "cell_type": "code",
      "metadata": {
        "id": "rWkuIcZ9isGT"
      },
      "source": [
        "# Import Pandas lib\n",
        "import pandas as pd\n",
        "import matplotlib.pyplot as plt\n",
        "\n",
        "dfMpg = pd.read_csv('https://raw.githubusercontent.com/ulises1229/INTRO-PYTHON-ENESJ/master/data/mpg.csv')\n",
        "dfMpg.head()\n",
        "\n",
        "\n"
      ],
      "execution_count": null,
      "outputs": []
    },
    {
      "cell_type": "markdown",
      "metadata": {
        "id": "KWiFNXOa0lVE"
      },
      "source": [
        "Ejercicio 1 - Parte 1"
      ]
    },
    {
      "cell_type": "code",
      "metadata": {
        "id": "XjD6fyu4zOJa"
      },
      "source": [
        "# Obtener dos columnas para graficar\n",
        "x = dfMpg.displ\n",
        "y = dfMpg.hwy\n",
        "\n",
        "plt.scatter(x,y, s = 10, alpha = 0.5, c = 'red')\n",
        "plt.title(\"Desplazamiento vs Rendimiento Autopista\")\n",
        "plt.xlabel(\"Desplazamiento (lts)\")\n",
        "plt.ylabel(\"Rendimiento autopista(mpg)\")\n",
        "\n",
        "# Guardar imagen con una resolución de 300 dpi\n",
        "plt.savefig(\"autopista.tiff\", dpi=300)\n",
        "\n"
      ],
      "execution_count": null,
      "outputs": []
    },
    {
      "cell_type": "markdown",
      "metadata": {
        "id": "_vGkqFzc0thE"
      },
      "source": [
        "Ejercicio 1 - Parte 2"
      ]
    },
    {
      "cell_type": "code",
      "metadata": {
        "id": "jscl6VSV0yqG"
      },
      "source": [
        "# Obtener dos columnas para graficar\n",
        "x = dfMpg.displ\n",
        "y = dfMpg.cty\n",
        "\n",
        "plt.scatter(x,y, s = 10, alpha = 0.5, c = 'red')\n",
        "plt.title(\"Desplazamiento vs Rendimiento Ciudad\")\n",
        "plt.xlabel(\"Desplazamiento (lts)\")\n",
        "plt.ylabel(\"Rendimiento ciudad(mpg)\")\n",
        "\n",
        "# Guardar imagen con una resolución de 300 dpi\n",
        "plt.savefig(\"ciudad.tiff\", dpi=300)"
      ],
      "execution_count": null,
      "outputs": []
    },
    {
      "cell_type": "markdown",
      "metadata": {
        "id": "kpvLvniAyCgd"
      },
      "source": [
        "### Ejercicio 2\n",
        "Emplear el dataframe **iris.csv** Está en el repositorio de GitHub:https://raw.githubusercontent.com/ulises1229/INTRO-PYTHON-ENESJ/master/data/iris.csv\n",
        "\n",
        "1. Se deberá generar un gráfico de dispersión de Longitud de pétalo vs Longitud de sepalo. Lo anterior se deberá hacer para cada especie, se deberá poner el nombre de la especie en una leyenda. "
      ]
    },
    {
      "cell_type": "code",
      "metadata": {
        "id": "kS5lHekryd7T"
      },
      "source": [
        "# Código aquí\n",
        "\n",
        "\n",
        "iris = pd.read_csv(\"https://raw.githubusercontent.com/ulises1229/INTRO-PYTHON-ENESJ/master/data/iris.csv\")\n",
        "iris.head()\n",
        "\n",
        "x = iris['Sepal.Length']\n",
        "y = iris['Petal.Length']\n",
        "\n",
        "\n",
        "plt.scatter(x,y)"
      ],
      "execution_count": null,
      "outputs": []
    },
    {
      "cell_type": "markdown",
      "metadata": {
        "id": "1_pDzah9lIE_"
      },
      "source": [
        "## 2. Gráficos de Línea# "
      ]
    },
    {
      "cell_type": "code",
      "metadata": {
        "id": "YEQ0KD1rlHjm"
      },
      "source": [
        "# Importar pandas y matplotlib\n",
        "import matplotlib.pyplot as plt\n",
        "import pandas as pd\n",
        "\n",
        "# Importar data frame de temperatura\n",
        "df_temp = pd.read_csv('https://raw.githubusercontent.com/ulises1229/INTRO-PYTHON-ENESJ/master/data/temp.csv', sep =',')\n",
        "\n",
        "df_temp\n",
        "\n"
      ],
      "execution_count": null,
      "outputs": []
    },
    {
      "cell_type": "code",
      "metadata": {
        "id": "2ZinlkNj6kvB"
      },
      "source": [
        "# Separa dos variables del dataframe\n",
        "año = df_temp.Year\n",
        "temp = df_temp.Mean\n",
        "\n",
        "# Generar el diagrama de línea\n",
        "plt.plot(año,temp)\n",
        "\n",
        "#Agregar un scatter\n",
        "plt.scatter(año, temp, s = 3, c = \"red\", alpha = 0.6)\n",
        "\n",
        "# Agregar títulos\n",
        "plt.title(\"Temperatura media de la tierra 1880 - 2016\")\n",
        "plt.xlabel('Año')\n",
        "plt.ylabel('Temperatura media ºC')\n",
        "\n",
        "#Guardar el el gráfico en un archivo\n",
        "plt.savefig(\"line_temp.tiff\", dpi=300, quality = 95, bbox_inches='tight')\n",
        "\n"
      ],
      "execution_count": null,
      "outputs": []
    },
    {
      "cell_type": "markdown",
      "metadata": {
        "id": "nYGbzUhqyxze"
      },
      "source": [
        "### Ejercicio 3\n",
        "Emplear el dataframe **co2.csv** Está en el repositorio de GitHub:https://raw.githubusercontent.com/ulises1229/INTRO-PYTHON-ENESJ/master/data/co2.csv\n",
        "1. Se deberá generar un gráfico de línea con fecha vs Interpolated.\n",
        "\n",
        "2. Se deberá generar un gráfico de línea con fecha vs Trend.\n",
        "\n",
        "3. Se deberá exportar el gráfico con una calidad de 300 dpi.\n"
      ]
    },
    {
      "cell_type": "code",
      "metadata": {
        "id": "Dr7OFQfOzKIl"
      },
      "source": [
        "# Código aquí\n",
        "co2 = pd.read_csv(\"https://raw.githubusercontent.com/ulises1229/INTRO-PYTHON-ENESJ/master/data/co2.csv\")\n",
        "co2.head()"
      ],
      "execution_count": null,
      "outputs": []
    },
    {
      "cell_type": "code",
      "metadata": {
        "id": "kV5uRdpb74BJ"
      },
      "source": [
        "# Primer parrte del ejercicio\n",
        "x = co2['Decimal Date']\n",
        "y = co2.Interpolated\n",
        "\n",
        "plt.plot(x , y)"
      ],
      "execution_count": null,
      "outputs": []
    },
    {
      "cell_type": "code",
      "metadata": {
        "id": "TD2uCTaL8dvI"
      },
      "source": [
        "# Segunda parte\n",
        "x = co2['Decimal Date']\n",
        "y = co2.Trend\n",
        "\n",
        "plt.plot(x,y)"
      ],
      "execution_count": null,
      "outputs": []
    },
    {
      "cell_type": "markdown",
      "metadata": {
        "id": "bAlltkc8zhuj"
      },
      "source": [
        "### 3. Gráficos de Barras"
      ]
    },
    {
      "cell_type": "code",
      "metadata": {
        "id": "5LV2Nku9zqST"
      },
      "source": [
        "# Importar pandas y matplotlib\n",
        "import matplotlib.pyplot as plt\n",
        "import pandas as pd\n",
        "\n",
        "#Leer el dataframe salaries.csv\n",
        "df = pd.read_csv(\"https://raw.githubusercontent.com/ulises1229/INTRO-PYTHON-ENESJ/master/data/salaries.csv\")\n",
        "df.head()"
      ],
      "execution_count": null,
      "outputs": []
    },
    {
      "cell_type": "code",
      "metadata": {
        "id": "zE4Y0IM09NTJ"
      },
      "source": [
        "# Recuperar rank y salario\n",
        "rank = df['rank']\n",
        "sueldo = df.salary\n",
        "\n",
        "# Generar una gráfica de barras\n",
        "plt.bar(rank, sueldo)\n",
        "\n",
        "# Agregar títulos\n",
        "plt.title(\"Posición de en profesor en relación a su salario\")\n",
        "plt.xlabel(\"Posición\")\n",
        "plt.ylabel(\"Salario Anual (USD)\")\n",
        "\n",
        "plt.savefig(\"salario.tiff\", dpi=300, quality = 95, bbox_inches='tight')"
      ],
      "execution_count": null,
      "outputs": []
    },
    {
      "cell_type": "markdown",
      "metadata": {
        "id": "3h5IcosC4JOj"
      },
      "source": [
        "### Ejercicio 4\n",
        "Emplear el dataframe salaries.csv \n",
        "\n",
        "Está en el repositorio de GitHub\n",
        "\n",
        "1. Se deberá generar un gráfico de barras comparando el salario por sexo."
      ]
    },
    {
      "cell_type": "code",
      "metadata": {
        "id": "SUlFcwUx4IVd"
      },
      "source": [
        "# Código aquí"
      ],
      "execution_count": null,
      "outputs": []
    },
    {
      "cell_type": "markdown",
      "metadata": {
        "id": "tMEiUsrB492m"
      },
      "source": [
        "## 4. Box Plots"
      ]
    },
    {
      "cell_type": "code",
      "metadata": {
        "id": "XE1nx-2Z5ErB"
      },
      "source": [
        "# Importar pandas y matplotlib\n",
        "import matplotlib.pyplot as plt\n",
        "import pandas as pd\n",
        "\n",
        "# importar ma\n",
        "\n",
        "#Leer el dataframe salaries.csv\n",
        "mpg = pd.read_csv(\"https://raw.githubusercontent.com/ulises1229/INTRO-PYTHON-ENESJ/master/data/mpg.csv\")\n",
        "\n",
        "x = 1\n",
        "plt.boxplot(mpg.hwy, notch = True, bootstrap =  len(mpg.hwy))\n",
        "# Agregar títulos\n",
        "plt.title(\"Consumo en autopista de todos los automóviles\")\n",
        "plt.xlabel(\"Número de Cilindros\")\n",
        "plt.ylabel(\"Consumo en autopista (mpg)\")\n",
        "\n",
        "# exportar imágen\n",
        "plt.savefig(\"mpg.tiff\", dpi=300, quality = 95, bbox_inches='tight')"
      ],
      "execution_count": null,
      "outputs": []
    }
  ]
}