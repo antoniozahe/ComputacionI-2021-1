{
  "nbformat": 4,
  "nbformat_minor": 0,
  "metadata": {
    "colab": {
      "name": "Computación I - Unidad 4.ipynb",
      "private_outputs": true,
      "provenance": [],
      "collapsed_sections": [],
      "authorship_tag": "ABX9TyNzSWVzF2vsJ0X17oUbZOuF",
      "include_colab_link": true
    },
    "kernelspec": {
      "name": "python3",
      "display_name": "Python 3"
    },
    "accelerator": "GPU"
  },
  "cells": [
    {
      "cell_type": "markdown",
      "metadata": {
        "id": "view-in-github",
        "colab_type": "text"
      },
      "source": [
        "<a href=\"https://colab.research.google.com/github/ulises1229/ComputacionI-2021-1/blob/master/Computaci%C3%B3n_I_Unidad_4.ipynb\" target=\"_parent\"><img src=\"https://colab.research.google.com/assets/colab-badge.svg\" alt=\"Open In Colab\"/></a>"
      ]
    },
    {
      "cell_type": "markdown",
      "metadata": {
        "id": "2ivIvIYVEwue"
      },
      "source": [
        "# Computación I - Unidad 4\n",
        "## Introducción a Python\n",
        "### Contenido:\n",
        "1. Variables\n",
        "2. Operadores\n",
        "3. Instrucciones de control\n",
        "4. Funciones \n",
        "5. Librerías \n",
        "\n"
      ]
    },
    {
      "cell_type": "markdown",
      "metadata": {
        "id": "h565Dyi2Ty4g"
      },
      "source": [
        "## 1. Variables\n"
      ]
    },
    {
      "cell_type": "code",
      "metadata": {
        "id": "3J5wzcu8UDGx"
      },
      "source": [
        "a = 4\n",
        "b = 3\n",
        "hello = \"Hello!\"\n",
        "print(a+b)\n",
        "\n",
        "# Definición de una lista con elementos diversos\n",
        "lista = [1, 2, 3, 4, [1,2,3], \"Hello\"]\n",
        "\n",
        "print(\"Último elemento: \", lista[-1][2:], \" Tamaño: \", len(lista[-1]))\n",
        "\n",
        "# Definición de una lista vacía \n",
        "lista2 = list()\n",
        "\n",
        "# Agregar elementos a lista2\n",
        "lista2.append(10)\n",
        "lista2.append(2)\n",
        "lista2.append(5)\n",
        "lista2.append(6)\n",
        "\n",
        "print(lista2)\n",
        "\n",
        "# Extender lista2\n",
        "lista2.extend([4,5,6])\n",
        "\n",
        "print(lista2)\n",
        "\n",
        "# Ordenar elementos de la lista2\n",
        "lista2.sort()\n",
        "\n",
        "print(lista2)\n",
        "\n",
        "lista2.insert(0, 29)\n",
        "\n",
        "# Eliminar la primer ocurrencia del elemento\n",
        "lista2.remove(5)\n",
        "\n",
        "print(lista2.pop(-1))\n",
        "\n",
        "print(\"Número de 6: \", lista2.count(6))\n",
        "\n",
        "print(lista2)\n",
        "\n",
        "lista2.extend([\"Hello\", \"hi\", \"aloha\"])\n",
        "print(lista2)\n",
        "\n",
        "for i in lista2:\n",
        "    print(type(i))\n",
        "\n",
        "\n",
        "\n"
      ],
      "execution_count": null,
      "outputs": []
    },
    {
      "cell_type": "markdown",
      "metadata": {
        "id": "Xz_LIyiYfA7J"
      },
      "source": [
        "### Tuplas"
      ]
    },
    {
      "cell_type": "code",
      "metadata": {
        "id": "AE6dP7QGfCBT"
      },
      "source": [
        "#Definición de una tupla\n",
        "tupla = (4,6,7,2,1)\n",
        "print(tupla)\n",
        "\n",
        "print(type(tupla))\n",
        "\n",
        "print(sorted(tupla))\n",
        "\n",
        "print(type(sorted(tupla)))\n",
        "\n",
        "\n"
      ],
      "execution_count": null,
      "outputs": []
    },
    {
      "cell_type": "markdown",
      "metadata": {
        "id": "TkCrMlaSmeLF"
      },
      "source": [
        "### Conjuntos"
      ]
    },
    {
      "cell_type": "code",
      "metadata": {
        "id": "c0BlSQMBmd67"
      },
      "source": [
        "# Definición de dos conjuntos\n",
        "\n",
        "a = {1,2,3,4}\n",
        "b = {2,3,5}\n",
        "\n",
        "# Operadores conjuntos | & - \n",
        "\n",
        "c = a & b\n",
        "print(c)\n",
        "\n",
        "print(a.intersection({1,2}))\n",
        "\n",
        "print(a)\n",
        "\n"
      ],
      "execution_count": null,
      "outputs": []
    },
    {
      "cell_type": "markdown",
      "metadata": {
        "id": "4QFQo6CFTtOi"
      },
      "source": [
        "## 2. Operadores\n"
      ]
    },
    {
      "cell_type": "code",
      "metadata": {
        "id": "PwAaNXcWUcPB"
      },
      "source": [
        "a = 4\n",
        "b = 3\n",
        "\n",
        "print(a+b)  # Suma \n",
        "print(a*b)  # Multiplicación\n",
        "print(a/b)  # División\n",
        "print(a**b) # Potencia\n"
      ],
      "execution_count": null,
      "outputs": []
    },
    {
      "cell_type": "markdown",
      "metadata": {
        "id": "ZY13D3tSj5Ga"
      },
      "source": [
        "## 3. Instrucciones de control"
      ]
    },
    {
      "cell_type": "code",
      "metadata": {
        "id": "HWWfPEe1SSpx"
      },
      "source": [
        "a = 3\n",
        "b = 5\n",
        "\n",
        "# uso de if\n",
        "if(a == b):\n",
        "    print(\"a y b son iguales\")\n",
        "elif (a>b):\n",
        "    print(\"a es mayor que b\")\n",
        "else:\n",
        "    print(\"b es mayor que a\")\n",
        "\n",
        "lista1 = [1,2,3,4,5,6,7,8]\n",
        "\n",
        "# Variable i toma el valor de cada elemento de la lista\n",
        "for i in lista1:\n",
        "    print(i)\n",
        "\n",
        "print(\"Impresión utilizando índices\")\n",
        "# Variable i toma el valor de un índice\n",
        "for i in range(len(lista1)):\n",
        "    print(lista1[i]) \n",
        "\n",
        "\n"
      ],
      "execution_count": null,
      "outputs": []
    },
    {
      "cell_type": "markdown",
      "metadata": {
        "id": "gVmwaeWYUQxd"
      },
      "source": [
        "### 4. Estructuras de datos\n",
        "+ Diccionarios"
      ]
    },
    {
      "cell_type": "code",
      "metadata": {
        "id": "KICkP0uoUVFc"
      },
      "source": [
        "\n",
        "# Ejemplificar el uso de diccionarios con tres pares de valores\n",
        "# Insertar una lista en el tercer elemento\n",
        "frutas = {'Fresa':'roja', 'Limón':'verde', 'Manzana':['amarilla', 'rojas', 'verdes']}\n",
        "print(frutas['Manzana'])\n",
        "\n",
        "# Diccionario para código ascii Clave = char valor = int\n",
        "ascii = {'A':65, 'B':66, 'C':67, 'D':68, 'E':69, 'F':70, 'G':71}\n",
        "\n",
        "# Diccionario para código ascii Clave = int valor = char\n",
        "ascii2 = {65:'A', 66:'B', 67:'C', 68 :'D', 69:'E', 70:'F', 71:'G'}\n",
        "\n",
        "# Definición de una cadena de chars\n",
        "cad = 'ABCDEFG'\n",
        "\n",
        "# Lista para almacenar representación entera de chars\n",
        "listInt = []\n",
        "\n",
        "# Imprimir entros\n",
        "for i in cad:\n",
        "    print(ascii[i])\n",
        "    listInt.append(ascii[i])\n",
        "print(\"El valor de listInt es\\n\", listInt)\n",
        "\n",
        "# Obtener cadena original\n",
        "for i in listInt:\n",
        "    print(ascii2[i])\n",
        "\n",
        "\n",
        "# Funciones asociadas a diccionarios\n",
        "\n",
        "# Imprimir llaves y valores utilizando funciones\n",
        "print(ascii.keys())\n",
        "print(ascii.values())\n",
        "\n",
        "# Eliminar todos los elementos del diccionario\n",
        "print(ascii.clear())\n",
        "\n",
        "# Ejercicio Asociado a diccionarios (Presentación)\n",
        "prod = 'Tijeras'\n",
        "cant = 2\n",
        "\n",
        "productos = {'Tijeras':50, 'Hojas':80}\n",
        "\n",
        "print(\"El total es\", cant * productos[prod])\n",
        "\n",
        "# TODO: Completar diccionario y preguntar al usuario productos y cants"
      ],
      "execution_count": null,
      "outputs": []
    },
    {
      "cell_type": "markdown",
      "metadata": {
        "id": "L424lh5WfFYm"
      },
      "source": [
        "### 5. Funciones"
      ]
    },
    {
      "cell_type": "code",
      "metadata": {
        "id": "g8z3nTu4fMp6"
      },
      "source": [
        "'''\n",
        "    Suma de dos números\n",
        "    Entrdas: Dos números enteros\n",
        "    Salida: Suma\n",
        "'''\n",
        "def suma(a, b):\n",
        "    return a + b\n",
        "\n",
        "'''\n",
        "    Resta de dos números\n",
        "    Entrdas: Dos números enteros\n",
        "    Salida: Diferencia de a -b\n",
        "'''\n",
        "def resta(a, b):\n",
        "    return a - b\n",
        "\n",
        "\n",
        "# Función principal main\n",
        "def main():\n",
        "    print(\"Función main\")\n",
        "    a = 5 \n",
        "    b = 3\n",
        "    print(\"La suma de los elementos a y b es: \", suma(a, b))\n",
        "\n",
        "    print(\"La resta de los elementos a y b es: \", resta(a, b))\n",
        "\n",
        "\n",
        "    '''\n",
        "        función que retorna el cuadrado y cubo de un elemento\n",
        "        Entrdas: elemento int\n",
        "        Salida: Cuadrado y cubo\n",
        "    '''\n",
        "    def potencia(a):\n",
        "        return a**2, a**3 , a**4\n",
        "\n",
        "    a = 2\n",
        "\n",
        "    print(potencia(a))\n",
        "\n",
        "    cuad, cubo, cuarta = potencia(a)\n",
        "\n",
        "    print(cuad)\n",
        "    print(cubo)\n",
        "\n",
        "\n",
        "\n",
        "# Sintaxis para generar una función main\n",
        "if __name__  == '__main__':\n",
        "    main()\n",
        "\n",
        "\n",
        "\n",
        "\n",
        "\n"
      ],
      "execution_count": null,
      "outputs": []
    }
  ]
}