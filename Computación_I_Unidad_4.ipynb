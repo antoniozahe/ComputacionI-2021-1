{
  "nbformat": 4,
  "nbformat_minor": 0,
  "metadata": {
    "colab": {
      "name": "Computación I - Unidad 4.ipynb",
      "private_outputs": true,
      "provenance": [],
      "collapsed_sections": [],
      "authorship_tag": "ABX9TyMuLG46edXnMfLlu1zwaAt4",
      "include_colab_link": true
    },
    "kernelspec": {
      "name": "python3",
      "display_name": "Python 3"
    },
    "accelerator": "GPU"
  },
  "cells": [
    {
      "cell_type": "markdown",
      "metadata": {
        "id": "view-in-github",
        "colab_type": "text"
      },
      "source": [
        "<a href=\"https://colab.research.google.com/github/ulises1229/ComputacionI-2021-1/blob/master/Computaci%C3%B3n_I_Unidad_4.ipynb\" target=\"_parent\"><img src=\"https://colab.research.google.com/assets/colab-badge.svg\" alt=\"Open In Colab\"/></a>"
      ]
    },
    {
      "cell_type": "markdown",
      "metadata": {
        "id": "2ivIvIYVEwue"
      },
      "source": [
        "# Computación I - Unidad 4\n",
        "## Introducción a Python\n",
        "### Contenido:\n",
        "1. Variables\n",
        "2. Operadores\n",
        "3. Instrucciones de control\n",
        "4. Funciones \n",
        "5. Librerías"
      ]
    },
    {
      "cell_type": "markdown",
      "metadata": {
        "id": "4QFQo6CFTtOi"
      },
      "source": [
        "# Operadores\n"
      ]
    },
    {
      "cell_type": "code",
      "metadata": {
        "id": "PwAaNXcWUcPB"
      },
      "source": [
        "a = 4\n",
        "b = 3\n",
        "\n",
        "print(a+b)  # Suma \n",
        "print(a*b)  # Multiplicación\n",
        "print(a/b)  # División\n",
        "print(a**b) # Potencia\n"
      ],
      "execution_count": null,
      "outputs": []
    },
    {
      "cell_type": "markdown",
      "metadata": {
        "id": "h565Dyi2Ty4g"
      },
      "source": [
        "# Variables\n"
      ]
    },
    {
      "cell_type": "code",
      "metadata": {
        "id": "3J5wzcu8UDGx"
      },
      "source": [
        "a = 4\n",
        "b = 3\n",
        "print(a+b)"
      ],
      "execution_count": null,
      "outputs": []
    }
  ]
}