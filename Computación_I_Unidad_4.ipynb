{
  "nbformat": 4,
  "nbformat_minor": 0,
  "metadata": {
    "colab": {
      "name": "Computación I - Unidad 4.ipynb",
      "private_outputs": true,
      "provenance": [],
      "collapsed_sections": [],
      "authorship_tag": "ABX9TyMEsEhZ1MIizFtREdGoRa5l",
      "include_colab_link": true
    },
    "kernelspec": {
      "name": "python3",
      "display_name": "Python 3"
    },
    "accelerator": "GPU"
  },
  "cells": [
    {
      "cell_type": "markdown",
      "metadata": {
        "id": "view-in-github",
        "colab_type": "text"
      },
      "source": [
        "<a href=\"https://colab.research.google.com/github/ulises1229/ComputacionI-2021-1/blob/master/Computaci%C3%B3n_I_Unidad_4.ipynb\" target=\"_parent\"><img src=\"https://colab.research.google.com/assets/colab-badge.svg\" alt=\"Open In Colab\"/></a>"
      ]
    },
    {
      "cell_type": "markdown",
      "metadata": {
        "id": "2ivIvIYVEwue"
      },
      "source": [
        "# Computación I - Unidad 4\n",
        "## Introducción a Python\n",
        "### Contenido:\n",
        "1. Variables\n",
        "2. Operadores\n",
        "3. Instrucciones de control\n",
        "4. Funciones \n",
        "5. Librerías \n",
        "\n"
      ]
    },
    {
      "cell_type": "markdown",
      "metadata": {
        "id": "h565Dyi2Ty4g"
      },
      "source": [
        "## 1. Variables\n"
      ]
    },
    {
      "cell_type": "code",
      "metadata": {
        "id": "3J5wzcu8UDGx"
      },
      "source": [
        "a = 4\n",
        "b = 3\n",
        "hello = \"Hello!\"\n",
        "print(a+b)\n",
        "\n",
        "# Definición de una lista con elementos diversos\n",
        "lista = [1, 2, 3, 4, [1,2,3], \"Hello\"]\n",
        "\n",
        "print(\"Último elemento: \", lista[-1][2:], \" Tamaño: \", len(lista[-1]))\n",
        "\n",
        "# Definición de una lista vacía \n",
        "lista2 = list()\n",
        "\n",
        "# Agregar elementos a lista2\n",
        "lista2.append(10)\n",
        "lista2.append(2)\n",
        "lista2.append(5)\n",
        "lista2.append(6)\n",
        "\n",
        "print(lista2)\n",
        "\n",
        "# Extender lista2\n",
        "lista2.extend([4,5,6])\n",
        "\n",
        "print(lista2)\n",
        "\n",
        "# Ordenar elementos de la lista2\n",
        "lista2.sort()\n",
        "\n",
        "print(lista2)\n",
        "\n",
        "lista2.insert(0, 29)\n",
        "\n",
        "# Eliminar la primer ocurrencia del elemento\n",
        "lista2.remove(5)\n",
        "\n",
        "print(lista2.pop(-1))\n",
        "\n",
        "print(\"Número de 6: \", lista2.count(6))\n",
        "\n",
        "print(lista2)\n",
        "\n",
        "lista2.extend([\"Hello\", \"hi\", \"aloha\"])\n",
        "print(lista2)\n",
        "\n",
        "for i in lista2:\n",
        "    print(type(i))\n",
        "\n",
        "\n",
        "# Imprimir iniciales de un nombre\n",
        "\n",
        "nombre = \"Ulises Olivares Pinto González\"\n",
        "nombre = nombre.split()\n",
        "print(nombre)\n",
        "print(nombre[0][0], nombre[1][0], nombre[2][0], nombre[3][0])\n",
        "\n",
        "\n",
        "\n"
      ],
      "execution_count": null,
      "outputs": []
    },
    {
      "cell_type": "markdown",
      "metadata": {
        "id": "Xz_LIyiYfA7J"
      },
      "source": [
        "### Tuplas"
      ]
    },
    {
      "cell_type": "code",
      "metadata": {
        "id": "AE6dP7QGfCBT"
      },
      "source": [
        "#Definición de una tupla\n",
        "tupla = (4,6,7,2,1)\n",
        "print(tupla)\n",
        "\n",
        "print(type(tupla))\n",
        "\n",
        "print(sorted(tupla))\n",
        "\n",
        "print(type(sorted(tupla)))\n",
        "\n",
        "\n"
      ],
      "execution_count": null,
      "outputs": []
    },
    {
      "cell_type": "markdown",
      "metadata": {
        "id": "TkCrMlaSmeLF"
      },
      "source": [
        "### Conjuntos"
      ]
    },
    {
      "cell_type": "code",
      "metadata": {
        "id": "c0BlSQMBmd67"
      },
      "source": [
        "# Definición de dos conjuntos\n",
        "\n",
        "a = {1,2,3,4}\n",
        "b = {2,3,5}\n",
        "\n",
        "# Operadores conjuntos | & - \n",
        "\n",
        "c = a & b\n",
        "print(c)\n",
        "\n",
        "print(a.intersection({1,2}))\n",
        "\n",
        "print(a)\n",
        "\n"
      ],
      "execution_count": null,
      "outputs": []
    },
    {
      "cell_type": "markdown",
      "metadata": {
        "id": "4QFQo6CFTtOi"
      },
      "source": [
        "## 2. Operadores\n"
      ]
    },
    {
      "cell_type": "code",
      "metadata": {
        "id": "PwAaNXcWUcPB"
      },
      "source": [
        "a = 4\n",
        "b = 3\n",
        "\n",
        "print(a+b)  # Suma \n",
        "print(a*b)  # Multiplicación\n",
        "print(a/b)  # División\n",
        "print(a**b) # Potencia\n"
      ],
      "execution_count": null,
      "outputs": []
    },
    {
      "cell_type": "markdown",
      "metadata": {
        "id": "ZY13D3tSj5Ga"
      },
      "source": [
        "## 3. Instrucciones de control"
      ]
    },
    {
      "cell_type": "code",
      "metadata": {
        "id": "HWWfPEe1SSpx"
      },
      "source": [
        "a = 3\n",
        "b = 5\n",
        "\n",
        "# uso de if\n",
        "if(a == b):\n",
        "    print(\"a y b son iguales\")\n",
        "elif (a>b):\n",
        "    print(\"a es mayor que b\")\n",
        "else:\n",
        "    print(\"b es mayor que a\")\n",
        "\n",
        "lista1 = [1,2,3,4,5,6,7,8]\n",
        "\n",
        "# Variable i toma el valor de cada elemento de la lista\n",
        "for i in lista1:\n",
        "    print(i)\n",
        "\n",
        "print(\"Impresión utilizando índices\")\n",
        "# Variable i toma el valor de un índice\n",
        "for i in range(len(lista1)):\n",
        "    print(lista1[i]) \n",
        "\n",
        "\n"
      ],
      "execution_count": null,
      "outputs": []
    },
    {
      "cell_type": "markdown",
      "metadata": {
        "id": "gVmwaeWYUQxd"
      },
      "source": [
        "### 4. Estructuras de datos\n",
        "+ Diccionarios"
      ]
    },
    {
      "cell_type": "code",
      "metadata": {
        "id": "KICkP0uoUVFc"
      },
      "source": [
        "\n",
        "# Ejemplificar el uso de diccionarios con tres pares de valores\n",
        "# Insertar una lista en el tercer elemento\n",
        "frutas = {'Fresa':'roja', 'Limón':'verde', 'Manzana':['amarilla', 'rojas', 'verdes']}\n",
        "print(frutas['Manzana'])\n",
        "\n",
        "# Diccionario para código ascii Clave = char valor = int\n",
        "ascii = {'A':65, 'B':66, 'C':67, 'D':68, 'E':69, 'F':70, 'G':71}\n",
        "\n",
        "# Diccionario para código ascii Clave = int valor = char\n",
        "ascii2 = {65:'A', 66:'B', 67:'C', 68 :'D', 69:'E', 70:'F', 71:'G'}\n",
        "\n",
        "# Definición de una cadena de chars\n",
        "cad = 'ABCDEFG'\n",
        "\n",
        "# Lista para almacenar representación entera de chars\n",
        "listInt = []\n",
        "\n",
        "# Imprimir entros\n",
        "for i in cad:\n",
        "    print(ascii[i])\n",
        "    listInt.append(ascii[i])\n",
        "print(\"El valor de listInt es\\n\", listInt)\n",
        "\n",
        "# Obtener cadena original\n",
        "for i in listInt:\n",
        "    print(ascii2[i])\n",
        "\n",
        "\n",
        "# Funciones asociadas a diccionarios\n",
        "\n",
        "# Imprimir llaves y valores utilizando funciones\n",
        "print(ascii.keys())\n",
        "print(ascii.values())\n",
        "\n",
        "# Eliminar todos los elementos del diccionario\n",
        "print(ascii.clear())\n",
        "\n",
        "# Ejercicio Asociado a diccionarios (Presentación)\n",
        "prod = 'Tijeras'\n",
        "cant = 2\n",
        "\n",
        "productos = {'Tijeras':50, 'Hojas':80}\n",
        "\n",
        "print(\"El total es\", cant * productos[prod])\n",
        "\n",
        "# TODO: Completar diccionario y preguntar al usuario productos y cants"
      ],
      "execution_count": null,
      "outputs": []
    },
    {
      "cell_type": "markdown",
      "metadata": {
        "id": "L424lh5WfFYm"
      },
      "source": [
        "### 5. Funciones"
      ]
    },
    {
      "cell_type": "code",
      "metadata": {
        "id": "g8z3nTu4fMp6"
      },
      "source": [
        "'''\n",
        "    Suma de dos números\n",
        "    Entrdas: Dos números enteros\n",
        "    Salida: Suma\n",
        "'''\n",
        "def suma(a, b):\n",
        "    return a + b\n",
        "\n",
        "'''\n",
        "    Resta de dos números\n",
        "    Entrdas: Dos números enteros\n",
        "    Salida: Diferencia de a -b\n",
        "'''\n",
        "def resta(a, b):\n",
        "    return a - b\n",
        "\n",
        "\n",
        "# Función principal main\n",
        "def main():\n",
        "    print(\"Función main\")\n",
        "    a = 5 \n",
        "    b = 3\n",
        "    print(\"La suma de los elementos a y b es: \", suma(a, b))\n",
        "\n",
        "    print(\"La resta de los elementos a y b es: \", resta(a, b))\n",
        "\n",
        "\n",
        "    '''\n",
        "        función que retorna el cuadrado y cubo de un elemento\n",
        "        Entrdas: elemento int\n",
        "        Salida: Cuadrado y cubo\n",
        "    '''\n",
        "    def potencia(a):\n",
        "        return a**2, a**3 , a**4\n",
        "\n",
        "    a = 2\n",
        "\n",
        "    print(potencia(a))\n",
        "\n",
        "    cuad, cubo, cuarta = potencia(a)\n",
        "\n",
        "    print(cuad)\n",
        "    print(cubo)\n",
        "\n",
        "\n",
        "\n",
        "# Sintaxis para generar una función main\n",
        "if __name__  == '__main__':\n",
        "    main()\n",
        "\n",
        "\n",
        "\n",
        "\n",
        "\n"
      ],
      "execution_count": null,
      "outputs": []
    },
    {
      "cell_type": "markdown",
      "metadata": {
        "id": "7EWEvIaXVy4j"
      },
      "source": [
        "## Librerías \n",
        "\n",
        "\n"
      ]
    },
    {
      "cell_type": "markdown",
      "metadata": {
        "id": "H7kMRaS6fulf"
      },
      "source": [
        ""
      ]
    },
    {
      "cell_type": "code",
      "metadata": {
        "id": "PSvJ9kICft7Q"
      },
      "source": [
        "# Instalación de paquetes manualmente\n",
        "!pip install numpy\n",
        "\n",
        "import random as rn\n",
        "\n",
        "# Establecer semilla\n",
        "#rn.seed(21)\n",
        "\n",
        "lista = list()\n",
        "hist = list()\n",
        "\n",
        "# Generar 10,000 números aleatorios\n",
        "for i in range(10001):\n",
        "    lista.append(rn.randint(1,101))\n",
        "    # hist = ()\n",
        "\n",
        "# Completar el histograma\n",
        "print(lista)\n",
        "\n"
      ],
      "execution_count": null,
      "outputs": []
    },
    {
      "cell_type": "markdown",
      "metadata": {
        "id": "MCkjOC_8fxK5"
      },
      "source": [
        "### Numpy\n",
        "+ Arreglos multidimensionales"
      ]
    },
    {
      "cell_type": "code",
      "metadata": {
        "id": "iV2tLujWH1N1"
      },
      "source": [
        "# importar librería de numpy \n",
        "import numpy as np\n",
        "\n",
        "# Creara un arreglo bi-dimensional\n",
        "m = 2\n",
        "n = 2\n",
        "\n",
        "# Definición de un arreglo bi-dimensional (matriz) de m x n \n",
        "b = np.ndarray(shape=(m,n), dtype=np.uint8)\n",
        "# Inicializar la matriz con datos de usuario\n",
        "for i in range(len(b)):\n",
        "    for j in range(len(b[0])):\n",
        "        b[i][j] = input(\"Ingesa el elemento de la posición: \"  + str(i)  + \" \" + str(j) + \"\\t\")\n",
        "\n",
        "# Especificación manual de matriz\n",
        "a = np.array([[1,2,3], \n",
        "              [4,5,6], \n",
        "              [7,8,9]], dtype = np.uint8)\n",
        "\n",
        "# Imprimir matriz\n",
        "print(a)\n",
        "print(type(a))\n",
        "\n",
        "# IMPRIMIR ELEMENTOS\n",
        "print(\"Dimensiones: \", a.ndim)\n",
        "print(\"Forma: \", a.shape)\n",
        "print(\"Tipo de datos: \", a.dtype)\n",
        "\n",
        "# IMPRIMIR ELEMENTOS SEGUNDA MATRIZ b\n",
        "print(\"Dimensiones: \", b.ndim)\n",
        "print(\"Forma: \", b.shape)\n",
        "print(\"Tipo de datos: \", b.dtype)"
      ],
      "execution_count": null,
      "outputs": []
    },
    {
      "cell_type": "code",
      "metadata": {
        "id": "kq_pDjfjJWjF"
      },
      "source": [
        "import numpy as np\n",
        "\n",
        "# Creación de arreglos\n",
        "# Arreglo de 1s\n",
        "ones = np.ones((4,4), dtype=np.float32)\n",
        "# Arreglo de 0s\n",
        "zeros = np.zeros((5,5), dtype=np.float32)\n",
        "\n",
        "#Impresión de matrices\n",
        "print(ones)\n",
        "print(zeros)\n",
        "\n",
        "print(\"Matriz 1s tiene: \" + str(len(ones)) + \" filas y \" + str(len(ones[0])) + \" columnas\")\n",
        "\n",
        "# Acceso a la matriz usando índices\n",
        "filas = len(ones)\n",
        "columnas = len(ones[0])\n",
        "\n",
        "print(\"Impresión utilizando índices\")\n",
        "for i in range(filas):\n",
        "  for j in range(columnas):\n",
        "    print(ones[i][j], end= \" \")\n",
        "  print(\" \")\n",
        "\n",
        "print(\"Impresión utilizando elementos\")\n",
        "# Acceso usando elementos\n",
        "for i in ones:\n",
        "  for j in i:\n",
        "    print(j , end =\" \")\n",
        "  print(\" \")"
      ],
      "execution_count": null,
      "outputs": []
    },
    {
      "cell_type": "code",
      "metadata": {
        "id": "Lhd4g_CDLatT"
      },
      "source": [
        "# Generación de un vector a través del uso de rangos\n",
        "np.arange(1, 100)"
      ],
      "execution_count": null,
      "outputs": []
    },
    {
      "cell_type": "code",
      "metadata": {
        "id": "SM-DLDRBPgho"
      },
      "source": [
        "# Concatenando arreglos o matrices\n",
        "A = np.ones((3,4), dtype = np.float32)\n",
        "B = np.zeros((5,4), dtype = np.float32)\n",
        "\n",
        "# concatenar matrices (Número de columnas debe ser igual)\n",
        "np.concatenate([A,B])\n",
        "\n",
        "# Concatenando arreglos o matrices \n",
        "A = np.ones((4,3), dtype = np.float32)\n",
        "B = np.zeros((4,2), dtype = np.float32)\n",
        "\n",
        "# concatenar filas de ambas matrices (Número de filas debe ser igual)\n",
        "np.concatenate([A,B], axis =1)\n",
        "\n",
        "# Caso de aplicación Inversa de una matriz usando eliminación de Gauss-J\n",
        "A = np.ones((4,4), dtype = np.float32)\n",
        "I = np.zeros_like(A)\n",
        "\n",
        "# Establecer 1's en la digonal principal\n",
        "for i in range(len(I)):\n",
        "    I[i][i] = 1\n",
        "\n",
        "print(\"Matriz A: \\n\", A)\n",
        "print(\"Matriz I: \\n\", I)\n",
        "\n",
        "aumentada = np.concatenate([A,I], axis = 1)\n",
        "\n",
        "print(\"Matriz Aumentada: \\n\", aumentada)\n"
      ],
      "execution_count": null,
      "outputs": []
    },
    {
      "cell_type": "code",
      "metadata": {
        "id": "S9bqh64vQD5a"
      },
      "source": [
        "# Uso de astype para hacer un cast de tipos de datos\n",
        "A = np.zeros((5,4), dtype = np.float32)\n",
        "print(len(A[0]))\n",
        "\n",
        "for i in range(len(A)):\n",
        "  for j in range(len(A[0])):\n",
        "    A[i][j] = np.pi\n",
        "print(A)\n",
        "\n",
        "print(A.astype(np.uint8))"
      ],
      "execution_count": null,
      "outputs": []
    },
    {
      "cell_type": "code",
      "metadata": {
        "id": "-YYZOHcCRkjk"
      },
      "source": [
        "# Uso de np.zeros_like y np.ones_like\n",
        "A = np.ones((4,4))\n",
        "print(A)\n",
        "# zeros_like genera un arreglo de las \n",
        "# mismas dimensiones que el original \n",
        "B = np.zeros_like(A)\n",
        "print(B)\n",
        "\n",
        "C = A\n",
        "\n",
        "A[0][0] = 2\n",
        "\n",
        "print(A)\n",
        "print(C)"
      ],
      "execution_count": null,
      "outputs": []
    },
    {
      "cell_type": "code",
      "metadata": {
        "id": "wGKMiDBIRfjT"
      },
      "source": [
        "# Generación de arreglos aleatorios\n",
        "A = np.random.random((5, 5))\n",
        "print(A)\n",
        "# Generación de números enteros del 0 al n-1 \n",
        "n = 10\n",
        "B= np.random.randint(10, size = (7,7))\n",
        "print(B)"
      ],
      "execution_count": null,
      "outputs": []
    },
    {
      "cell_type": "code",
      "metadata": {
        "id": "TEbefbC4Q-ER"
      },
      "source": [
        "# Transformaciones de arreglos\n",
        "A = np.array([1,2,3,4,5,6,7,8,9,10,11,12])\n",
        "print(A)\n",
        "\n",
        "# Transformar a 3 filas, 2 columnas\n",
        "A = A.reshape(3,4)\n",
        "print(A)\n",
        "\n",
        "# Se utiliza -1 para determinar cols\n",
        "A = A.reshape(4, -1)\n",
        "print(A)\n",
        "\n",
        "# Transormar a un arreglo lineal\n",
        "A = A.ravel()\n",
        "print(A)"
      ],
      "execution_count": null,
      "outputs": []
    },
    {
      "cell_type": "code",
      "metadata": {
        "id": "kdP0tMurZrka"
      },
      "source": [
        "# Transpuesta de una matriz\n",
        "A = np.arange(25).reshape(5,5)\n",
        "print(\"Matriz Original: \\n\" + str(A))\n",
        "# Imprimir matriz transpuesta\n",
        "print(\"Matriz Transpuesta: \\n\" + str(A.T))\n",
        "# Imprimir matriz \n",
        "print(\"Matriz Transpuesta: \\n\" + str(A.transpose((1,0))))\n",
        "\n",
        "# Comprobación de una matriz simétrica\n",
        "A = np.array([[1,0],\n",
        "              [0,1]], dtype=np.uint8)\n",
        "\n",
        "if (A == A.T).all():\n",
        "    print(\"A es simétrica\")\n",
        "else:\n",
        "    print(\"A NO es simétrica\")\n",
        "\n"
      ],
      "execution_count": null,
      "outputs": []
    },
    {
      "cell_type": "code",
      "metadata": {
        "id": "u44c41iHY8qZ"
      },
      "source": [
        "# Operadores Matemáticos\n",
        "f = 3\n",
        "c = 3\n",
        "\n",
        "n = 9\n",
        "\n",
        "A = np.arange(n).reshape(f,c)\n",
        "print(\"Primer Matriz: \\n\" + str(A))\n",
        "\n",
        "B = np.arange(n, n+n).reshape(f, c)\n",
        "print(\"Segunda Matriz: \\n\" + str(B))\n",
        "\n",
        "# Calcular la suma de ambas matrices\n",
        "print(\"Suma: \\n\"  + str(A + B))\n",
        "\n",
        "# Calcular la resta de ambas matrices\n",
        "print(\"resta: \\n\"  + str(B - A))\n",
        "\n",
        "# Calcular la multiplicación de ambas matrices\n",
        "print(\"multiplicación: \\n\"  + str(A @ B))"
      ],
      "execution_count": null,
      "outputs": []
    },
    {
      "cell_type": "code",
      "metadata": {
        "id": "6ypxSJKoY3p9"
      },
      "source": [
        "# Operadores lógicos\n",
        "A = np.random.random((5,5))\n",
        "print(\"Matriz Original: \\n\" + str(A))\n",
        "\n",
        "# Operador lógico\n",
        "print(\"Operador lógico a >5 \\n\" + str(A > 0.5))"
      ],
      "execution_count": null,
      "outputs": []
    },
    {
      "cell_type": "code",
      "metadata": {
        "id": "_jgah2aMe1A1"
      },
      "source": [
        "# Operaciones in-situ \n",
        "A = np.random.randint(10, size= (5,5))\n",
        "print(\"Matriz A Original: \\n\" + str(A))\n",
        "\n",
        "B  = np.random.randint(10, size= (5,5))\n",
        "print(\"Matriz B Original: \\n\" + str(B))\n",
        "\n",
        "# Operación in-situ\n",
        "A += B\n",
        "print(\"Matriz A Modificada: \\n\" + str(A))"
      ],
      "execution_count": null,
      "outputs": []
    },
    {
      "cell_type": "code",
      "metadata": {
        "id": "qnL5B5LMfzz9"
      },
      "source": [
        "# Funciones universales\n",
        "A = np.random.randint(10, 100, size= (5,5))\n",
        "print(\"Matriz A Original: \\n\" + str(A))\n",
        "\n",
        "# Calcular Raiz cuadrada\n",
        "print(\"Raiz Cuadrada: \\n\" + str(np.sqrt(A)))\n",
        "\n",
        "# Calcular raiz a elemento de la matriz\n",
        "print(np.sqrt(A[0][0]))\n"
      ],
      "execution_count": null,
      "outputs": []
    },
    {
      "cell_type": "markdown",
      "metadata": {
        "id": "0qFDMEpz4oKY"
      },
      "source": [
        "#### Inversa de una matriz\n"
      ]
    },
    {
      "cell_type": "code",
      "metadata": {
        "id": "gGbw1o3x4ruc"
      },
      "source": [
        "# Inversa de una matriz\n",
        "import numpy as np\n",
        "\n",
        "# Inicializar una matriz \n",
        "A = np.random.randint(10, size= (5,5))\n",
        "print(\"Matriz A Original: \\n\" + str(A))\n",
        "\n",
        "# Calcular matriz inversa\n",
        "B = np.linalg.inv(A)\n",
        "print(\"Matriz Inversa A^-1: \\n\" + str(B))"
      ],
      "execution_count": null,
      "outputs": []
    },
    {
      "cell_type": "markdown",
      "metadata": {
        "id": "5JO3NyGytIri"
      },
      "source": [
        "***\n",
        "Termina repaso de Numpy \n",
        "***"
      ]
    },
    {
      "cell_type": "markdown",
      "metadata": {
        "id": "JNL0A2zcMCJf"
      },
      "source": [
        "### Tiempos en Python y Numpy\n"
      ]
    },
    {
      "cell_type": "code",
      "metadata": {
        "id": "A_1gV7NvMBxl"
      },
      "source": [
        "import numpy as np\n",
        "import time\n",
        "\n",
        "def encontrarMayor(A):\n",
        "    # Variable inicializada en menos infinito\n",
        "    mayor = np.inf * -1  \n",
        "    for i in A:\n",
        "        if i > mayor:\n",
        "            mayor = i\n",
        "    return mayor\n",
        "\n",
        "def encontrarElementoIngenuo(A, k):\n",
        "    pos = -1\n",
        "    for i in range(len(A)):\n",
        "        if A[i] == k:\n",
        "            pos = i\n",
        "    return pos\n",
        "            \n",
        "def encontrarElementoOptimizado(A, k):\n",
        "    pos = -1\n",
        "    for i in range(len(A)):\n",
        "        if A[i] == k:\n",
        "            pos = i\n",
        "            break\n",
        "    return pos\n",
        "\n",
        "\n",
        "\n",
        "def main():\n",
        "    n = 400001\n",
        "    A = np.arange(1, n)\n",
        "    k = 1\n",
        "\n",
        "    # Definición de timer inicial\n",
        "    inicio = time.time()\n",
        "\n",
        "    # Instanciar función para encontrar el elemento mayor\n",
        "    mayor = encontrarMayor(A)\n",
        "\n",
        "    # Definición de timer final\n",
        "    fin = time.time()\n",
        "\n",
        "    print(\"El tiempo total es de: \", (fin - inicio) * 1000, \"ms\" )\n",
        "\n",
        "    # Tomar timepos y manda llamar el método ingenuo\n",
        "    inicio = time.time()\n",
        "    encontrarElementoIngenuo(A, k)\n",
        "    fin = time.time()\n",
        "    print(\"El tiempo total ingenuo es de: \", (fin - inicio) * 1000, \"ms\" )\n",
        "\n",
        "    # Tomar timepos y manda llamar el método optimizado\n",
        "    inicio = time.time()\n",
        "    encontrarElementoOptimizado(A, k)\n",
        "    fin = time.time()\n",
        "    print(\"El tiempo total optimizado es de: \", (fin - inicio) * 1000, \"ms\" )\n",
        "\n",
        "\n",
        "    #print(\"El elemento mayor de A es: \", mayor)\n",
        "\n",
        "\n",
        "\n",
        "\n",
        "\n",
        "\n",
        "\n",
        "if __name__ == \"__main__\":\n",
        "    main()"
      ],
      "execution_count": null,
      "outputs": []
    },
    {
      "cell_type": "code",
      "metadata": {
        "id": "WNrLhFbkMBPf"
      },
      "source": [
        ""
      ],
      "execution_count": null,
      "outputs": []
    }
  ]
}