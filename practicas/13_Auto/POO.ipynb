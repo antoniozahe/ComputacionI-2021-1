{
 "cells": [
  {
   "cell_type": "markdown",
   "metadata": {},
   "source": [
    "# Programación orientada a objetos en Python"
   ]
  },
  {
   "cell_type": "markdown",
   "metadata": {},
   "source": [
    "Creación de un clase `Auto`"
   ]
  },
  {
   "cell_type": "code",
   "execution_count": 2,
   "metadata": {},
   "outputs": [],
   "source": [
    "class Auto():\n",
    "    def saludar(self):\n",
    "        print(\"Hola desde mi auto!\")"
   ]
  },
  {
   "cell_type": "markdown",
   "metadata": {},
   "source": [
    "Creamos una instancia de la clase `Auto` a la cual le llamaremos `miAuto`"
   ]
  },
  {
   "cell_type": "code",
   "execution_count": 3,
   "metadata": {},
   "outputs": [
    {
     "name": "stdout",
     "output_type": "stream",
     "text": [
      "<class '__main__.Auto'>\n",
      "Hola desde mi auto!\n"
     ]
    }
   ],
   "source": [
    "miAuto = Auto()\n",
    "print(type(miAuto))\n",
    "# Le pido a miAuto que me salude\n",
    "miAuto.saludar()"
   ]
  },
  {
   "cell_type": "markdown",
   "metadata": {},
   "source": [
    "Presta especial atención a cuando creas un método, siempre debe de recibir como primer parámetro la palabra reservada `self`, de lo contrario te va a generar un error como el siguiente:"
   ]
  },
  {
   "cell_type": "code",
   "execution_count": 18,
   "metadata": {},
   "outputs": [
    {
     "ename": "TypeError",
     "evalue": "saludar() takes 0 positional arguments but 1 was given",
     "output_type": "error",
     "traceback": [
      "\u001b[1;31m---------------------------------------------------------------------------\u001b[0m",
      "\u001b[1;31mTypeError\u001b[0m                                 Traceback (most recent call last)",
      "\u001b[1;32m<ipython-input-18-cf9df5843137>\u001b[0m in \u001b[0;36m<module>\u001b[1;34m\u001b[0m\n\u001b[0;32m      5\u001b[0m \u001b[1;31m# Creamos una instancia para probar\u001b[0m\u001b[1;33m\u001b[0m\u001b[1;33m\u001b[0m\u001b[1;33m\u001b[0m\u001b[0m\n\u001b[0;32m      6\u001b[0m \u001b[0mmiAuto\u001b[0m \u001b[1;33m=\u001b[0m \u001b[0mAuto\u001b[0m\u001b[1;33m(\u001b[0m\u001b[1;33m)\u001b[0m\u001b[1;33m\u001b[0m\u001b[1;33m\u001b[0m\u001b[0m\n\u001b[1;32m----> 7\u001b[1;33m \u001b[0mmiAuto\u001b[0m\u001b[1;33m.\u001b[0m\u001b[0msaludar\u001b[0m\u001b[1;33m(\u001b[0m\u001b[1;33m)\u001b[0m \u001b[1;31m# Le pedimos al auto que nos salude (debe generar un error)\u001b[0m\u001b[1;33m\u001b[0m\u001b[1;33m\u001b[0m\u001b[0m\n\u001b[0m",
      "\u001b[1;31mTypeError\u001b[0m: saludar() takes 0 positional arguments but 1 was given"
     ]
    }
   ],
   "source": [
    "class Auto():\n",
    "    def saludar():\n",
    "        print(\"Hola desde mi auto!\")\n",
    "\n",
    "# Creamos una instancia para probar\n",
    "miAuto = Auto()\n",
    "miAuto.saludar() # Le pedimos al auto que nos salude (debe generar un error)"
   ]
  },
  {
   "cell_type": "markdown",
   "metadata": {},
   "source": [
    "## Atributos\n",
    "Para poder agregar algunos atributos a nuestro auto, es posible inicializarlas pasándolas como argumentos (similar al constructor en C++)"
   ]
  },
  {
   "cell_type": "code",
   "execution_count": 4,
   "metadata": {},
   "outputs": [],
   "source": [
    "class Auto():\n",
    "    def __init__(self, color):\n",
    "        self.color = color # color del auto"
   ]
  },
  {
   "cell_type": "markdown",
   "metadata": {},
   "source": [
    "Ahora podemos acceder al atributo `color` de nuestra instancia de `Auto`"
   ]
  },
  {
   "cell_type": "code",
   "execution_count": 5,
   "metadata": {},
   "outputs": [
    {
     "name": "stdout",
     "output_type": "stream",
     "text": [
      "Rojo\n",
      "Verde\n"
     ]
    }
   ],
   "source": [
    "miAuto = Auto(\"Rojo\")\n",
    "print(miAuto.color)\n",
    "miSegundoAuto = Auto(\"Verde\")\n",
    "print(miSegundoAuto.color)"
   ]
  },
  {
   "cell_type": "markdown",
   "metadata": {},
   "source": [
    "## Métodos\n",
    "De forma similar a como creamos inicialmente el método `saludar` y el método _built-in_ `__init__`, es posible definir métodos (funciones dentro de un objeto) que operen dentro de nuestra instancia del objeto"
   ]
  },
  {
   "cell_type": "code",
   "execution_count": 6,
   "metadata": {},
   "outputs": [],
   "source": [
    "class Auto():\n",
    "    def __init__(self, color, marca, modelo = 2020):\n",
    "        self.color = color # color del auto\n",
    "        self.marca = marca # marca del auto\n",
    "        self.mod = modelo # año de lanzamiento del auto\n",
    "    \n",
    "    def edadAuto(self):\n",
    "        print(f\"Este auto tiene {2020 - self.mod} años de antigüedad\")"
   ]
  },
  {
   "cell_type": "markdown",
   "metadata": {},
   "source": [
    "Ahora probemos este método creando varias instancias"
   ]
  },
  {
   "cell_type": "code",
   "execution_count": 7,
   "metadata": {},
   "outputs": [
    {
     "name": "stdout",
     "output_type": "stream",
     "text": [
      "Este auto tiene 5 años de antigüedad\n",
      "Este auto tiene 0 años de antigüedad\n"
     ]
    }
   ],
   "source": [
    "auto2015 = Auto(\"Rojo\", \"Honda\", 2015)\n",
    "auto2015.edadAuto()\n",
    "autoUltimoModelo = Auto(\"Verde\", \"Ferrari\")\n",
    "autoUltimoModelo.edadAuto()"
   ]
  },
  {
   "cell_type": "markdown",
   "metadata": {},
   "source": [
    "Hagamos ahora cosas más interesantes. Por ejemplo permitir al vehículo avanzar"
   ]
  },
  {
   "cell_type": "code",
   "execution_count": 8,
   "metadata": {},
   "outputs": [],
   "source": [
    "class Auto():\n",
    "    def __init__(self, color, marca, modelo = 2020, kilometros = 0):\n",
    "        self.color = color # color auto\n",
    "        self.marca = marca # marca auto\n",
    "        self.mod = modelo # año de lanzamiento del auto\n",
    "        self.kms = kilometros # km recorridos\n",
    "        self.x = 0 # posición en un eje x imaginario\n",
    "    \n",
    "    # Permite al auto moverse en una línea recta una cierta `distancia` en km\n",
    "    def avanzar(self, distancia, reversa = False):\n",
    "        self.kms += distancia\n",
    "        self.x += distancia if not reversa else -distancia"
   ]
  },
  {
   "cell_type": "code",
   "execution_count": 9,
   "metadata": {},
   "outputs": [
    {
     "name": "stdout",
     "output_type": "stream",
     "text": [
      "Mi auto ha recorrido 1200 y está en la posición 200\n",
      "Mi auto ha recorrido 1201 y está en la posición 199 después de la reversa\n"
     ]
    }
   ],
   "source": [
    "miAuto = Auto(\"Rojo\", \"Honda\", kilometros = 1000)\n",
    "miAuto.avanzar(200) # considerando una ida de Qro a CDMX\n",
    "print(f\"Mi auto ha recorrido {miAuto.kms} y está en la posición {miAuto.x}\")\n",
    "miAuto.avanzar(1, reversa = True) # caso de reversa\n",
    "print(f\"Mi auto ha recorrido {miAuto.kms} y está en la posición {miAuto.x} después de la reversa\")"
   ]
  },
  {
   "cell_type": "markdown",
   "metadata": {},
   "source": [
    "Es poco eficiente y poco agradable estar accediendo e imprimiendo datos de la instancia si lo que buscamos imprimir es repetitivo y representativo de nuestro objeto, por tanto podemos ocupar otro método _built-in_ conocido como `__str__`"
   ]
  },
  {
   "cell_type": "code",
   "execution_count": 10,
   "metadata": {},
   "outputs": [],
   "source": [
    "class Auto():\n",
    "    def __init__(self, color, marca, modelo = 2020, kilometros = 0):\n",
    "        self.color = color # color auto\n",
    "        self.marca = marca # marca auto\n",
    "        self.mod = modelo # año de lanzamiento del auto\n",
    "        self.kms = kilometros # km recorridos\n",
    "        self.x = 0 # posición en un eje x imaginario\n",
    "    \n",
    "    # Mensaje al imprimir este objeto\n",
    "    def __str__(self):\n",
    "        return f\"Auto {self.marca} color {self.color} modelo {self.mod} con {self.kms} km recorridos se encuentra en la posición {self.x}\"\n",
    "    \n",
    "    # Permite al auto moverse en una línea recta una cierta `distancia` en km\n",
    "    def avanzar(self, distancia, reversa = False):\n",
    "        self.kms += distancia\n",
    "        self.x += distancia if not reversa else -distancia"
   ]
  },
  {
   "cell_type": "code",
   "execution_count": 11,
   "metadata": {},
   "outputs": [
    {
     "name": "stdout",
     "output_type": "stream",
     "text": [
      "Auto Honda color Rojo modelo 2020 con 0 km recorridos se encuentra en la posición 0\n",
      "Auto Honda color Rojo modelo 2020 con 200 km recorridos se encuentra en la posición 200\n",
      "Auto Honda color Rojo modelo 2020 con 201 km recorridos se encuentra en la posición 199\n"
     ]
    }
   ],
   "source": [
    "miAuto = Auto(\"Rojo\", \"Honda\")\n",
    "print(miAuto) # Imprimimos el auto en su estado inicial\n",
    "miAuto.avanzar(200) # Avanzamos el auto por 200 km\n",
    "print(miAuto) # Imprimimos el auto después del recorrido\n",
    "miAuto.avanzar(1, reversa = True) # poco de reversa\n",
    "print(miAuto)"
   ]
  },
  {
   "cell_type": "markdown",
   "metadata": {},
   "source": [
    "Podemos hacer entonces cosas tan complejas como queramos, incluso modificar los atributos de forma externa ¿bueno o malo?"
   ]
  },
  {
   "cell_type": "code",
   "execution_count": 12,
   "metadata": {},
   "outputs": [
    {
     "name": "stdout",
     "output_type": "stream",
     "text": [
      "Auto Honda color Rojo modelo 2010 con 0 km recorridos se encuentra en la posición 0\n",
      "Auto Ferrari color Verde modelo 2020 con 0 km recorridos se encuentra en la posición 0\n",
      "Pintamos los autos\n",
      "Auto Honda color Negro modelo 2010 con 0 km recorridos se encuentra en la posición 0\n",
      "Auto Ferrari color Negro modelo 2020 con 0 km recorridos se encuentra en la posición 0\n"
     ]
    }
   ],
   "source": [
    "misAutos = [Auto(\"Rojo\", \"Honda\", 2010), Auto(\"Verde\", \"Ferrari\")]\n",
    "\n",
    "# Imprimimos autos\n",
    "def imprimirAutos(autos):\n",
    "    for auto in autos:\n",
    "        print(auto)\n",
    "\n",
    "# Pintamos los autos modificando su atributo `color`\n",
    "def pintarAutos(autos, nuevoColor):\n",
    "    for auto in autos:\n",
    "        auto.color = nuevoColor\n",
    "        \n",
    "imprimirAutos(misAutos) # iniciales\n",
    "print(\"Pintamos los autos\")\n",
    "pintarAutos(misAutos, \"Negro\") # pintamos a negro\n",
    "imprimirAutos(misAutos) # autos pintados"
   ]
  },
  {
   "cell_type": "markdown",
   "metadata": {},
   "source": [
    "### Ejemplo/Ejercicio\n",
    "Permite que un auto tenga color, marca, modelo, kilometraje inicial, así como el valor del rendimiento de cuántos km puede recorrer por litro, capacidad del tanque de gasolina y finalmente el porcentaje de gasolina que tiene el auto (puedes darte valores predefinidos a estos parámetros si gustas). \n",
    "Además, deberás de tomar en cuenta su posición (inicialmente 0) en un _eje x_, donde se moverá.\n",
    "Deberás entonces crear algunos métodos que le serán útiles a este auto:\n",
    "* Crea un método que le permita desplazarse hacia adelante o en reversa una cierta distancia. Este método deberá de permitir que el usuario avance hasta cuando se le termine la gasolina, es decir, el número de kilómetros que podía recorrer con el porcentaje de combustible disponible.\n",
    "* Deberás entonces también permitir que el usuario vuelva a llenar su tanque de gasolina, pero tendrás que limitarlo a su capacidad máxima, la cual no podrá exceder por más gasolina que busque introducir al vehículo.\n",
    "* Finalmente este automóvil deberá de tener un mensaje que consideres representativo al momento de imprimirlo, de forma que el usuario pueda saber el estado general de su auto sin necesidad de revisar cada una de sus partes."
   ]
  },
  {
   "cell_type": "markdown",
   "metadata": {},
   "source": [
    "# ADVERTENCIA\n",
    "A continuación aparece una posible solución del ejercicio. Procura hacer tus intentos antes de observar la solución. \n",
    "### ¡La intención es que practiques!"
   ]
  },
  {
   "cell_type": "code",
   "execution_count": 13,
   "metadata": {},
   "outputs": [],
   "source": [
    "class Auto():\n",
    "    def __init__(self, kmPorLitro, capTanque, porcentajeComb = 1, marca = \"Honda\", color = \"Rojo\"):\n",
    "        self.kmPLitro = kmPorLitro\n",
    "        self.capTanque = capTanque\n",
    "        self.porComb = porcentajeComb\n",
    "        self.marca = marca\n",
    "        self.color = color\n",
    "        self.x = 0 # posición en km\n",
    "    \n",
    "    def __str__(self):\n",
    "        return f\"Tu auto tiene {self.porComb * 100}% de gasolina, lo que te alcanza para {self.kmRestantes()} km. Actualmente estoy en la posición {self.x} km\"\n",
    "    \n",
    "    def kmRestantes(self):\n",
    "        return self.kmPLitro * self.capTanque * self.porComb\n",
    "    \n",
    "    def avanzar(self, distancia, unidades = \"m\", reversa = False):\n",
    "        if unidades not in [\"m\", \"km\"]:\n",
    "            print(\"Unidades incorrectas\")\n",
    "            return\n",
    "        distanciaKM = distancia if unidades == \"km\" else distancia / 1000\n",
    "        maxKM = self.kmRestantes()\n",
    "        distanciaMax = distanciaKM if maxKM >= distanciaKM else maxKM\n",
    "        self.x += distanciaMax * (-1 if reversa else 1)\n",
    "        self.cargarGasolina(((distanciaMax / self.kmPLitro) / self.capTanque) * 100, gastar = True)\n",
    "        print(f\"Avancé {distanciaMax} km y resta {self.porComb * 100}% de combustible que rinde para {self.kmRestantes()} km más.\")\n",
    "        \n",
    "    def cargarGasolina(self, porcentaje, gastar = False):\n",
    "        if porcentaje < 0:\n",
    "            print(\"El porcentaje tiene que ser positivo\")\n",
    "            return\n",
    "        porcentaje /= 100\n",
    "        if gastar:\n",
    "            porCarga = -porcentaje if porcentaje <= self.porComb else self.porComb\n",
    "        else:\n",
    "            maxCarga = 1 - self.porComb\n",
    "            if porcentaje > maxCarga:\n",
    "                print(f\"El máximo de carga posible fue {maxCarga * 100}.\")\n",
    "            porCarga = porcentaje if porcentaje < maxCarga else maxCarga\n",
    "        self.porComb += porCarga\n",
    "        print(f\"El tanque quedó hasta el {self.porComb * 100}% de su capacidad.\")"
   ]
  },
  {
   "cell_type": "markdown",
   "metadata": {},
   "source": [
    "# Prueba del ejercicio\n",
    "A continuación aparece una muestra del posible comportamiento esperado del ejercicio anterior. Prueba con diferentes instrucciones y demás para ponerlo a prueba si gustas."
   ]
  },
  {
   "cell_type": "code",
   "execution_count": 14,
   "metadata": {},
   "outputs": [
    {
     "name": "stdout",
     "output_type": "stream",
     "text": [
      "Tu auto tiene 100% de gasolina, lo que te alcanza para 800 km. Actualmente estoy en la posición 0 km\n",
      "El tanque quedó hasta el 0.0% de su capacidad.\n",
      "Avancé 800 km y resta 0.0% de combustible que rinde para 0.0 km más.\n",
      "Tu auto tiene 0.0% de gasolina, lo que te alcanza para 0.0 km. Actualmente estoy en la posición 800 km\n",
      "Recargar\n",
      "El máximo de carga posible fue 100.0.\n",
      "El tanque quedó hasta el 100.0% de su capacidad.\n",
      "Reversa\n",
      "El tanque quedó hasta el 99.9% de su capacidad.\n",
      "Avancé 0.8 km y resta 99.9% de combustible que rinde para 799.2 km más.\n",
      "Tu auto tiene 99.9% de gasolina, lo que te alcanza para 799.2 km. Actualmente estoy en la posición 799.2 km\n"
     ]
    }
   ],
   "source": [
    "miAuto = Auto(10, 80)\n",
    "print(miAuto)\n",
    "miAuto.avanzar(1000, unidades = \"km\")\n",
    "print(miAuto)\n",
    "print(\"Recargar\")\n",
    "miAuto.cargarGasolina(porcentaje=150)\n",
    "print(\"Reversa\")\n",
    "miAuto.avanzar(800, unidades = \"m\", reversa = True)\n",
    "print(miAuto)"
   ]
  },
  {
   "cell_type": "markdown",
   "metadata": {},
   "source": [
    "### Eso ha sido todo. ¡Muchas gracias por ser mi estudiante! \n",
    "#### Espero que hayas aprendido tan siquiera un poco de este mundo tan fascinante de la programación.\n",
    "Recuerda que cualquier duda que tengas o demás puedes contactarme sin mayor problema (incluso sobre tus prácticas, si es que tienes alguna duda). \n",
    "\n",
    "## ¡Mucho éxito!"
   ]
  }
 ],
 "metadata": {
  "kernelspec": {
   "display_name": "Python 3",
   "language": "python",
   "name": "python3"
  },
  "language_info": {
   "codemirror_mode": {
    "name": "ipython",
    "version": 3
   },
   "file_extension": ".py",
   "mimetype": "text/x-python",
   "name": "python",
   "nbconvert_exporter": "python",
   "pygments_lexer": "ipython3",
   "version": "3.8.5"
  }
 },
 "nbformat": 4,
 "nbformat_minor": 4
}
